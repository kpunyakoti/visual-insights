{
 "cells": [
  {
   "cell_type": "code",
   "execution_count": 53,
   "id": "410533d8",
   "metadata": {},
   "outputs": [],
   "source": [
    "%matplotlib inline\n",
    "from nuscenes.nuscenes import NuScenes\n",
    "from nuscenes.utils.data_classes import Box\n",
    "from nuscenes.utils.geometry_utils import view_points, BoxVisibility\n",
    "from pyquaternion import Quaternion\n",
    "import numpy as np\n",
    "import pandas as pd\n",
    "import tqdm"
   ]
  },
  {
   "cell_type": "code",
   "execution_count": 16,
   "id": "05ba0d1e-433f-45f1-b902-3131ef43c714",
   "metadata": {},
   "outputs": [],
   "source": [
    "import os"
   ]
  },
  {
   "cell_type": "code",
   "execution_count": 18,
   "id": "a66ed4ac-6289-4d67-8e3a-652dd91c7100",
   "metadata": {},
   "outputs": [],
   "source": [
    "os.chdir(\"../\")"
   ]
  },
  {
   "cell_type": "code",
   "execution_count": 83,
   "id": "4d8bc64a",
   "metadata": {},
   "outputs": [
    {
     "name": "stdout",
     "output_type": "stream",
     "text": [
      "======\n",
      "Loading NuScenes tables for version v1.0-mini...\n",
      "23 category,\n",
      "8 attribute,\n",
      "4 visibility,\n",
      "911 instance,\n",
      "12 sensor,\n",
      "120 calibrated_sensor,\n",
      "31206 ego_pose,\n",
      "8 log,\n",
      "10 scene,\n",
      "404 sample,\n",
      "31206 sample_data,\n",
      "18538 sample_annotation,\n",
      "4 map,\n",
      "Done loading in 1.895 seconds.\n",
      "======\n",
      "Reverse indexing ...\n",
      "Done reverse indexing in 0.1 seconds.\n",
      "======\n"
     ]
    }
   ],
   "source": [
    "# Loading the nuscene from local system\n",
    "nusc = NuScenes(version='v1.0-mini', dataroot='data/input_data/v1.0-mini/', verbose=True)"
   ]
  },
  {
   "cell_type": "code",
   "execution_count": 4,
   "id": "3dfc794b",
   "metadata": {},
   "outputs": [],
   "source": [
    "my_scene = nusc.scene[0]\n",
    "first_sample_token = my_scene['first_sample_token']\n",
    "my_sample = nusc.get('sample', first_sample_token)"
   ]
  },
  {
   "cell_type": "code",
   "execution_count": 5,
   "id": "cc56e84f",
   "metadata": {},
   "outputs": [
    {
     "data": {
      "text/plain": [
       "{'token': 'e3d495d4ac534d54b321f50006683844',\n",
       " 'sample_token': 'ca9a282c9e77460f8360f564131a8af5',\n",
       " 'ego_pose_token': 'e3d495d4ac534d54b321f50006683844',\n",
       " 'calibrated_sensor_token': '1d31c729b073425e8e0202c5c6e66ee1',\n",
       " 'timestamp': 1532402927612460,\n",
       " 'fileformat': 'jpg',\n",
       " 'is_key_frame': True,\n",
       " 'height': 900,\n",
       " 'width': 1600,\n",
       " 'filename': 'samples/CAM_FRONT/n015-2018-07-24-11-22-45+0800__CAM_FRONT__1532402927612460.jpg',\n",
       " 'prev': '',\n",
       " 'next': '68e8e98cf7b0487baa139df808641db7',\n",
       " 'sensor_modality': 'camera',\n",
       " 'channel': 'CAM_FRONT'}"
      ]
     },
     "execution_count": 5,
     "metadata": {},
     "output_type": "execute_result"
    }
   ],
   "source": [
    "sensor = 'CAM_FRONT'\n",
    "cam_front_data_token = my_sample['data'][sensor]\n",
    "cam_front_data = nusc.get('sample_data', cam_front_data_token)\n",
    "cam_front_data"
   ]
  },
  {
   "cell_type": "code",
   "execution_count": 87,
   "id": "ea15bd0f",
   "metadata": {},
   "outputs": [
    {
     "name": "stderr",
     "output_type": "stream",
     "text": [
      "100%|██████████| 10/10 [00:00<00:00, 189.28it/s]\n"
     ]
    }
   ],
   "source": [
    "camera_name = 'CAM_FRONT'\n",
    "\n",
    "image_data_dict = dict()\n",
    "# Iterate to scene\n",
    "for scene in tqdm.tqdm(nusc.scene):\n",
    "    #Iterate to sample\n",
    "    token = scene['first_sample_token']\n",
    "    while token != '':\n",
    "\n",
    "        camera_token = nusc.get('sample',token)['data'][camera_name]\n",
    "        annotation_list = sample['anns']\n",
    "\n",
    "        filename, boxes, camera_intrinsic = nusc.get_sample_data(camera_token, selected_anntokens=annotation_list)\n",
    "        if camera_token not in image_data_dict:\n",
    "            image_data_dict[camera_token] = {'iID': camera_token,\n",
    "                                                     'filePath': filename,\n",
    "                                                     'annotations': []}\n",
    "        for box in boxes:\n",
    "            corners = view_points(box.corners(), np.array(camera_intrinsic), normalize=True)[:2, :]\n",
    "            image_data_dict[camera_token]['annotations'].append({'name': box.name, 'corners': corners.tolist()})\n",
    "            \n",
    "        token = sample['next']\n",
    "#         print(token)\n",
    "#         break\n",
    "        "
   ]
  },
  {
   "cell_type": "raw",
   "id": "25606305-2499-4946-8f88-18e31bbb31ef",
   "metadata": {},
   "source": [
    "import json\n",
    "with open('data/output_data/camera_front_boxes.json', 'w') as f:\n",
    "    json.dump(image_data_dict, f)"
   ]
  },
  {
   "cell_type": "code",
   "execution_count": null,
   "id": "2e4a0c0b-dd84-46f0-8712-3abc59685f2c",
   "metadata": {},
   "outputs": [],
   "source": []
  },
  {
   "cell_type": "markdown",
   "id": "92368656-eeb0-4e1a-8fb1-646b8f6fa289",
   "metadata": {},
   "source": [
    "## generate class distribution"
   ]
  },
  {
   "cell_type": "code",
   "execution_count": 69,
   "id": "167f996f",
   "metadata": {},
   "outputs": [],
   "source": [
    "with open('data/output_data/camera_front_boxes.json', 'r') as file:\n",
    "    data = json.load(file)"
   ]
  },
  {
   "cell_type": "code",
   "execution_count": 70,
   "id": "2d3a09bf-3fcc-406c-bb16-efe461da5a0f",
   "metadata": {},
   "outputs": [],
   "source": [
    "iID_list = []\n",
    "name_list = []\n",
    "corners_list = []"
   ]
  },
  {
   "cell_type": "code",
   "execution_count": 71,
   "id": "a798ad0e-ba02-46b0-bb04-e3a379eaed66",
   "metadata": {},
   "outputs": [],
   "source": [
    "for key, value in data.items():\n",
    "    iID = value[\"iID\"]\n",
    "    annotations = value[\"annotations\"]\n",
    "    \n",
    "    for annotation in annotations:\n",
    "        name = annotation[\"name\"]\n",
    "        corners = annotation[\"corners\"]\n",
    "        \n",
    "        # Append the data to the respective lists\n",
    "        iID_list.append(iID)\n",
    "        name_list.append(name)\n",
    "        corners_list.append(corners)\n",
    "\n",
    "# Create a Pandas DataFrame from the lists\n",
    "df = pd.DataFrame({\n",
    "    \"iID\": iID_list,\n",
    "    \"name\": name_list,\n",
    "    \"corners\": corners_list\n",
    "})"
   ]
  },
  {
   "cell_type": "code",
   "execution_count": 72,
   "id": "83a40a62-c2b0-4fab-938e-b57adccc792c",
   "metadata": {},
   "outputs": [],
   "source": [
    "df[['class_name', 'sub_category', 'grain']] = df['name'].str.split('.', expand=True, n=2)"
   ]
  },
  {
   "cell_type": "code",
   "execution_count": 82,
   "id": "d8624b27-9122-4592-9f36-a1e3d90bec78",
   "metadata": {},
   "outputs": [
    {
     "data": {
      "text/html": [
       "<div>\n",
       "<style scoped>\n",
       "    .dataframe tbody tr th:only-of-type {\n",
       "        vertical-align: middle;\n",
       "    }\n",
       "\n",
       "    .dataframe tbody tr th {\n",
       "        vertical-align: top;\n",
       "    }\n",
       "\n",
       "    .dataframe thead th {\n",
       "        text-align: right;\n",
       "    }\n",
       "</style>\n",
       "<table border=\"1\" class=\"dataframe\">\n",
       "  <thead>\n",
       "    <tr style=\"text-align: right;\">\n",
       "      <th></th>\n",
       "      <th>camera_name</th>\n",
       "      <th>class_name</th>\n",
       "      <th>counts</th>\n",
       "      <th>proportion</th>\n",
       "    </tr>\n",
       "  </thead>\n",
       "  <tbody>\n",
       "    <tr>\n",
       "      <th>0</th>\n",
       "      <td>camera_front</td>\n",
       "      <td>vehicle</td>\n",
       "      <td>3050</td>\n",
       "      <td>0.568606</td>\n",
       "    </tr>\n",
       "    <tr>\n",
       "      <th>1</th>\n",
       "      <td>camera_front</td>\n",
       "      <td>movable_object</td>\n",
       "      <td>1144</td>\n",
       "      <td>0.213274</td>\n",
       "    </tr>\n",
       "    <tr>\n",
       "      <th>2</th>\n",
       "      <td>camera_front</td>\n",
       "      <td>human</td>\n",
       "      <td>1141</td>\n",
       "      <td>0.212714</td>\n",
       "    </tr>\n",
       "    <tr>\n",
       "      <th>3</th>\n",
       "      <td>camera_front</td>\n",
       "      <td>static_object</td>\n",
       "      <td>29</td>\n",
       "      <td>0.005406</td>\n",
       "    </tr>\n",
       "  </tbody>\n",
       "</table>\n",
       "</div>"
      ],
      "text/plain": [
       "    camera_name      class_name  counts  proportion\n",
       "0  camera_front         vehicle    3050    0.568606\n",
       "1  camera_front  movable_object    1144    0.213274\n",
       "2  camera_front           human    1141    0.212714\n",
       "3  camera_front   static_object      29    0.005406"
      ]
     },
     "execution_count": 82,
     "metadata": {},
     "output_type": "execute_result"
    }
   ],
   "source": [
    "class_counts = pd.DataFrame({'counts': df.class_name.value_counts(),\n",
    "                                 'proportion': df.class_name.value_counts(normalize=True)\n",
    "                                }).reset_index().rename(columns={\"index\":\"class_name\"})\n",
    "class_counts['camera_name'] = 'camera_front'\n",
    "class_counts = class_counts[['camera_name', 'class_name', 'counts', 'proportion']]\n",
    "class_counts"
   ]
  },
  {
   "cell_type": "code",
   "execution_count": 81,
   "id": "8247094a-f70e-4596-82e2-2004655c25c5",
   "metadata": {},
   "outputs": [
    {
     "data": {
      "text/html": [
       "<div>\n",
       "<style scoped>\n",
       "    .dataframe tbody tr th:only-of-type {\n",
       "        vertical-align: middle;\n",
       "    }\n",
       "\n",
       "    .dataframe tbody tr th {\n",
       "        vertical-align: top;\n",
       "    }\n",
       "\n",
       "    .dataframe thead th {\n",
       "        text-align: right;\n",
       "    }\n",
       "</style>\n",
       "<table border=\"1\" class=\"dataframe\">\n",
       "  <thead>\n",
       "    <tr style=\"text-align: right;\">\n",
       "      <th></th>\n",
       "      <th>camera_name</th>\n",
       "      <th>class_name</th>\n",
       "      <th>sub_category</th>\n",
       "      <th>counts</th>\n",
       "      <th>proportion</th>\n",
       "    </tr>\n",
       "  </thead>\n",
       "  <tbody>\n",
       "    <tr>\n",
       "      <th>0</th>\n",
       "      <td>camera_front</td>\n",
       "      <td>vehicle</td>\n",
       "      <td>car</td>\n",
       "      <td>2349</td>\n",
       "      <td>0.437919</td>\n",
       "    </tr>\n",
       "    <tr>\n",
       "      <th>1</th>\n",
       "      <td>camera_front</td>\n",
       "      <td>human</td>\n",
       "      <td>pedestrian</td>\n",
       "      <td>1141</td>\n",
       "      <td>0.212714</td>\n",
       "    </tr>\n",
       "    <tr>\n",
       "      <th>2</th>\n",
       "      <td>camera_front</td>\n",
       "      <td>movable_object</td>\n",
       "      <td>trafficcone</td>\n",
       "      <td>594</td>\n",
       "      <td>0.110738</td>\n",
       "    </tr>\n",
       "    <tr>\n",
       "      <th>3</th>\n",
       "      <td>camera_front</td>\n",
       "      <td>movable_object</td>\n",
       "      <td>barrier</td>\n",
       "      <td>527</td>\n",
       "      <td>0.098248</td>\n",
       "    </tr>\n",
       "    <tr>\n",
       "      <th>4</th>\n",
       "      <td>camera_front</td>\n",
       "      <td>vehicle</td>\n",
       "      <td>bus</td>\n",
       "      <td>180</td>\n",
       "      <td>0.033557</td>\n",
       "    </tr>\n",
       "    <tr>\n",
       "      <th>5</th>\n",
       "      <td>camera_front</td>\n",
       "      <td>vehicle</td>\n",
       "      <td>truck</td>\n",
       "      <td>174</td>\n",
       "      <td>0.032438</td>\n",
       "    </tr>\n",
       "    <tr>\n",
       "      <th>6</th>\n",
       "      <td>camera_front</td>\n",
       "      <td>vehicle</td>\n",
       "      <td>motorcycle</td>\n",
       "      <td>147</td>\n",
       "      <td>0.027405</td>\n",
       "    </tr>\n",
       "    <tr>\n",
       "      <th>7</th>\n",
       "      <td>camera_front</td>\n",
       "      <td>vehicle</td>\n",
       "      <td>construction</td>\n",
       "      <td>101</td>\n",
       "      <td>0.018829</td>\n",
       "    </tr>\n",
       "    <tr>\n",
       "      <th>8</th>\n",
       "      <td>camera_front</td>\n",
       "      <td>vehicle</td>\n",
       "      <td>bicycle</td>\n",
       "      <td>82</td>\n",
       "      <td>0.015287</td>\n",
       "    </tr>\n",
       "    <tr>\n",
       "      <th>9</th>\n",
       "      <td>camera_front</td>\n",
       "      <td>static_object</td>\n",
       "      <td>bicycle_rack</td>\n",
       "      <td>29</td>\n",
       "      <td>0.005406</td>\n",
       "    </tr>\n",
       "    <tr>\n",
       "      <th>10</th>\n",
       "      <td>camera_front</td>\n",
       "      <td>movable_object</td>\n",
       "      <td>pushable_pullable</td>\n",
       "      <td>23</td>\n",
       "      <td>0.004288</td>\n",
       "    </tr>\n",
       "    <tr>\n",
       "      <th>11</th>\n",
       "      <td>camera_front</td>\n",
       "      <td>vehicle</td>\n",
       "      <td>trailer</td>\n",
       "      <td>17</td>\n",
       "      <td>0.003169</td>\n",
       "    </tr>\n",
       "  </tbody>\n",
       "</table>\n",
       "</div>"
      ],
      "text/plain": [
       "     camera_name      class_name       sub_category  counts  proportion\n",
       "0   camera_front         vehicle                car    2349    0.437919\n",
       "1   camera_front           human         pedestrian    1141    0.212714\n",
       "2   camera_front  movable_object        trafficcone     594    0.110738\n",
       "3   camera_front  movable_object            barrier     527    0.098248\n",
       "4   camera_front         vehicle                bus     180    0.033557\n",
       "5   camera_front         vehicle              truck     174    0.032438\n",
       "6   camera_front         vehicle         motorcycle     147    0.027405\n",
       "7   camera_front         vehicle       construction     101    0.018829\n",
       "8   camera_front         vehicle            bicycle      82    0.015287\n",
       "9   camera_front   static_object       bicycle_rack      29    0.005406\n",
       "10  camera_front  movable_object  pushable_pullable      23    0.004288\n",
       "11  camera_front         vehicle            trailer      17    0.003169"
      ]
     },
     "execution_count": 81,
     "metadata": {},
     "output_type": "execute_result"
    }
   ],
   "source": [
    "sub_category_counts = pd.DataFrame({'counts': df[['class_name', 'sub_category']].value_counts(),\n",
    "                                 'proportion': df[['class_name', 'sub_category']].value_counts(normalize=True)\n",
    "                                }).reset_index()\n",
    "sub_category_counts['camera_name'] = 'camera_front'\n",
    "sub_category_counts = sub_category_counts[['camera_name', 'class_name', 'sub_category', 'counts', 'proportion']]\n",
    "sub_category_counts"
   ]
  },
  {
   "cell_type": "code",
   "execution_count": null,
   "id": "a45414bb-e3d2-4a89-97a9-f3352dfa750b",
   "metadata": {},
   "outputs": [],
   "source": []
  }
 ],
 "metadata": {
  "kernelspec": {
   "display_name": "Python 3 (ipykernel)",
   "language": "python",
   "name": "python3"
  },
  "language_info": {
   "codemirror_mode": {
    "name": "ipython",
    "version": 3
   },
   "file_extension": ".py",
   "mimetype": "text/x-python",
   "name": "python",
   "nbconvert_exporter": "python",
   "pygments_lexer": "ipython3",
   "version": "3.9.13"
  }
 },
 "nbformat": 4,
 "nbformat_minor": 5
}
