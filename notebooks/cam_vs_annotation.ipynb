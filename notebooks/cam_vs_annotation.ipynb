{
 "cells": [
  {
   "cell_type": "code",
   "execution_count": 15,
   "id": "410533d8",
   "metadata": {},
   "outputs": [],
   "source": [
    "%matplotlib inline\n",
    "from nuscenes.nuscenes import NuScenes\n",
    "from nuscenes.utils.data_classes import Box\n",
    "from nuscenes.utils.geometry_utils import view_points, BoxVisibility\n",
    "from pyquaternion import Quaternion\n",
    "import numpy as np\n",
    "import tqdm"
   ]
  },
  {
   "cell_type": "code",
   "execution_count": 16,
   "id": "05ba0d1e-433f-45f1-b902-3131ef43c714",
   "metadata": {},
   "outputs": [],
   "source": [
    "import os"
   ]
  },
  {
   "cell_type": "code",
   "execution_count": 19,
   "id": "f6c07e0b-3936-40c5-a9a6-372261b34194",
   "metadata": {},
   "outputs": [
    {
     "data": {
      "text/plain": [
       "'/Users/krishna/Desktop/GaTech/CSE_6242/visual-insights'"
      ]
     },
     "execution_count": 19,
     "metadata": {},
     "output_type": "execute_result"
    }
   ],
   "source": [
    "%pwd"
   ]
  },
  {
   "cell_type": "code",
   "execution_count": 18,
   "id": "a66ed4ac-6289-4d67-8e3a-652dd91c7100",
   "metadata": {},
   "outputs": [],
   "source": [
    "os.chdir(\"../\")"
   ]
  },
  {
   "cell_type": "code",
   "execution_count": 20,
   "id": "4d8bc64a",
   "metadata": {},
   "outputs": [
    {
     "name": "stdout",
     "output_type": "stream",
     "text": [
      "======\n",
      "Loading NuScenes tables for version v1.0-mini...\n",
      "23 category,\n",
      "8 attribute,\n",
      "4 visibility,\n",
      "911 instance,\n",
      "12 sensor,\n",
      "120 calibrated_sensor,\n",
      "31206 ego_pose,\n",
      "8 log,\n",
      "10 scene,\n",
      "404 sample,\n",
      "31206 sample_data,\n",
      "18538 sample_annotation,\n",
      "4 map,\n",
      "Done loading in 2.575 seconds.\n",
      "======\n",
      "Reverse indexing ...\n",
      "Done reverse indexing in 0.1 seconds.\n",
      "======\n"
     ]
    }
   ],
   "source": [
    "# Loading the nuscene from local system\n",
    "#nusc = NuScenes(version='v1.0-trainval', dataroot='/home/common_datasets/nuScenes/v1.0-full/', verbose=True)\n",
    "nusc = NuScenes(version='v1.0-mini', dataroot='data/input_data/v1.0-mini/', verbose=True)"
   ]
  },
  {
   "cell_type": "code",
   "execution_count": 4,
   "id": "3dfc794b",
   "metadata": {},
   "outputs": [],
   "source": [
    "my_scene = nusc.scene[0]\n",
    "first_sample_token = my_scene['first_sample_token']\n",
    "my_sample = nusc.get('sample', first_sample_token)"
   ]
  },
  {
   "cell_type": "code",
   "execution_count": 5,
   "id": "cc56e84f",
   "metadata": {},
   "outputs": [
    {
     "data": {
      "text/plain": [
       "{'token': 'e3d495d4ac534d54b321f50006683844',\n",
       " 'sample_token': 'ca9a282c9e77460f8360f564131a8af5',\n",
       " 'ego_pose_token': 'e3d495d4ac534d54b321f50006683844',\n",
       " 'calibrated_sensor_token': '1d31c729b073425e8e0202c5c6e66ee1',\n",
       " 'timestamp': 1532402927612460,\n",
       " 'fileformat': 'jpg',\n",
       " 'is_key_frame': True,\n",
       " 'height': 900,\n",
       " 'width': 1600,\n",
       " 'filename': 'samples/CAM_FRONT/n015-2018-07-24-11-22-45+0800__CAM_FRONT__1532402927612460.jpg',\n",
       " 'prev': '',\n",
       " 'next': '68e8e98cf7b0487baa139df808641db7',\n",
       " 'sensor_modality': 'camera',\n",
       " 'channel': 'CAM_FRONT'}"
      ]
     },
     "execution_count": 5,
     "metadata": {},
     "output_type": "execute_result"
    }
   ],
   "source": [
    "sensor = 'CAM_FRONT'\n",
    "cam_front_data_token = my_sample['data'][sensor]\n",
    "cam_front_data = nusc.get('sample_data', cam_front_data_token)\n",
    "cam_front_data"
   ]
  },
  {
   "cell_type": "code",
   "execution_count": 6,
   "id": "ea15bd0f",
   "metadata": {},
   "outputs": [
    {
     "name": "stderr",
     "output_type": "stream",
     "text": [
      "100%|██████████| 10/10 [00:01<00:00,  5.03it/s]\n"
     ]
    }
   ],
   "source": [
    "camera_name = 'CAM_FRONT'\n",
    "\n",
    "camera_front_bboxes = dict()\n",
    "# Iterate to scene\n",
    "for scene in tqdm.tqdm(nusc.scene):\n",
    "    #Iterate to sample\n",
    "    token = scene['first_sample_token']\n",
    "    while token != '':\n",
    "        sample = nusc.get('sample', token)\n",
    "        camera_token = sample['data'][camera_name]\n",
    "        camera_data = nusc.get('sample_data', camera_token)\n",
    "        annotation_list = sample['anns']\n",
    "\n",
    "        data_path, boxes, camera_intrinsic = nusc.get_sample_data(camera_token, selected_anntokens=annotation_list)\n",
    "        if data_path not in camera_front_bboxes:\n",
    "            camera_front_bboxes[data_path] = []\n",
    "        for box in boxes:\n",
    "            corners = view_points(box.corners(), np.array(camera_intrinsic), normalize=True)[:2, :]\n",
    "            camera_front_bboxes[data_path].append({'name': box.name, 'corners': corners.tolist()})\n",
    "            \n",
    "        token = sample['next']\n",
    "#         print(token)\n",
    "#         break\n",
    "        "
   ]
  },
  {
   "cell_type": "code",
   "execution_count": 7,
   "id": "3a566073",
   "metadata": {},
   "outputs": [],
   "source": [
    "import json\n",
    "with open('../data/output_data/camera_front_bboxes.json', 'w') as f:\n",
    "    json.dump(camera_front_bboxes, f)"
   ]
  },
  {
   "cell_type": "code",
   "execution_count": 8,
   "id": "167f996f",
   "metadata": {},
   "outputs": [
    {
     "data": {
      "text/plain": [
       "[{'name': 'human.pedestrian.adult',\n",
       "  'corners': [[720.90181671817,\n",
       "    738.9074819877472,\n",
       "    738.5828598729023,\n",
       "    720.6562802615175,\n",
       "    765.0110268352955,\n",
       "    782.7587373141831,\n",
       "    782.2168480972483,\n",
       "    764.5454183957835],\n",
       "   [455.96965842373146,\n",
       "    455.55683254953516,\n",
       "    567.8784892654493,\n",
       "    570.1983720519023,\n",
       "    457.12278831604397,\n",
       "    456.6785212893316,\n",
       "    572.1196590488302,\n",
       "    574.5793317846233]]},\n",
       " {'name': 'vehicle.car',\n",
       "  'corners': [[651.8057152151464,\n",
       "    464.2641404700817,\n",
       "    465.81311629883527,\n",
       "    651.9224347817117,\n",
       "    486.48901246244264,\n",
       "    333.65174877639566,\n",
       "    335.565839818494,\n",
       "    487.4613285078554],\n",
       "   [465.72294217223754,\n",
       "    468.46924320043064,\n",
       "    652.6226173357721,\n",
       "    634.1594070819167,\n",
       "    455.17592729167063,\n",
       "    456.495304900344,\n",
       "    595.399718593544,\n",
       "    584.9466443840229]]},\n",
       " {'name': 'human.pedestrian.adult',\n",
       "  'corners': [[1509.7993690266344,\n",
       "    1490.6193111435746,\n",
       "    1488.3473682151564,\n",
       "    1507.4412919591582,\n",
       "    1530.3828424023718,\n",
       "    1511.143730727894,\n",
       "    1508.8425933924727,\n",
       "    1527.9960292822966],\n",
       "   [457.4427047490825,\n",
       "    456.9347199065529,\n",
       "    524.1273238112943,\n",
       "    525.591080472454,\n",
       "    457.2337732987198,\n",
       "    456.73471932899963,\n",
       "    523.1333542545709,\n",
       "    524.5655693376638]]},\n",
       " {'name': 'vehicle.car',\n",
       "  'corners': [[187.1919359909003,\n",
       "    100.09010121988776,\n",
       "    101.35570375189681,\n",
       "    188.2299601275929,\n",
       "    169.37017844370035,\n",
       "    92.01684537012962,\n",
       "    93.14952084153416,\n",
       "    170.3236018879498],\n",
       "   [473.25479345506744,\n",
       "    474.40490392384396,\n",
       "    528.4796590025159,\n",
       "    525.632157933041,\n",
       "    467.2331949062947,\n",
       "    468.0750314372798,\n",
       "    515.8051416691018,\n",
       "    513.6359697984025]]}]"
      ]
     },
     "execution_count": 8,
     "metadata": {},
     "output_type": "execute_result"
    }
   ],
   "source": [
    "camera_front_bboxes[data_path]"
   ]
  },
  {
   "cell_type": "code",
   "execution_count": 9,
   "id": "c172a3a7",
   "metadata": {},
   "outputs": [
    {
     "data": {
      "text/plain": [
       "404"
      ]
     },
     "execution_count": 9,
     "metadata": {},
     "output_type": "execute_result"
    }
   ],
   "source": [
    "len(camera_front_bboxes)"
   ]
  },
  {
   "cell_type": "code",
   "execution_count": null,
   "id": "fe6895b7",
   "metadata": {},
   "outputs": [],
   "source": []
  }
 ],
 "metadata": {
  "kernelspec": {
   "display_name": "Python 3 (ipykernel)",
   "language": "python",
   "name": "python3"
  },
  "language_info": {
   "codemirror_mode": {
    "name": "ipython",
    "version": 3
   },
   "file_extension": ".py",
   "mimetype": "text/x-python",
   "name": "python",
   "nbconvert_exporter": "python",
   "pygments_lexer": "ipython3",
   "version": "3.9.13"
  }
 },
 "nbformat": 4,
 "nbformat_minor": 5
}
