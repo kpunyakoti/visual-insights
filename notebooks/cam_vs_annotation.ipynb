{
 "cells": [
  {
   "cell_type": "code",
   "execution_count": 53,
   "id": "410533d8",
   "metadata": {},
   "outputs": [],
   "source": [
    "%matplotlib inline\n",
    "from nuscenes.nuscenes import NuScenes\n",
    "from nuscenes.utils.data_classes import Box\n",
    "from nuscenes.utils.geometry_utils import view_points, BoxVisibility\n",
    "from pyquaternion import Quaternion\n",
    "import numpy as np\n",
    "import pandas as pd\n",
    "import tqdm"
   ]
  },
  {
   "cell_type": "code",
   "execution_count": 16,
   "id": "05ba0d1e-433f-45f1-b902-3131ef43c714",
   "metadata": {},
   "outputs": [],
   "source": [
    "import os"
   ]
  },
  {
   "cell_type": "code",
   "execution_count": 18,
   "id": "a66ed4ac-6289-4d67-8e3a-652dd91c7100",
   "metadata": {},
   "outputs": [],
   "source": [
    "os.chdir(\"../\")"
   ]
  },
  {
   "cell_type": "code",
   "execution_count": 83,
   "id": "4d8bc64a",
   "metadata": {},
   "outputs": [
    {
     "name": "stdout",
     "output_type": "stream",
     "text": [
      "======\n",
      "Loading NuScenes tables for version v1.0-mini...\n",
      "23 category,\n",
      "8 attribute,\n",
      "4 visibility,\n",
      "911 instance,\n",
      "12 sensor,\n",
      "120 calibrated_sensor,\n",
      "31206 ego_pose,\n",
      "8 log,\n",
      "10 scene,\n",
      "404 sample,\n",
      "31206 sample_data,\n",
      "18538 sample_annotation,\n",
      "4 map,\n",
      "Done loading in 1.895 seconds.\n",
      "======\n",
      "Reverse indexing ...\n",
      "Done reverse indexing in 0.1 seconds.\n",
      "======\n"
     ]
    }
   ],
   "source": [
    "# Loading the nuscene from local system\n",
    "nusc = NuScenes(version='v1.0-mini', dataroot='data/input_data/v1.0-mini/', verbose=True)"
   ]
  },
  {
   "cell_type": "code",
   "execution_count": 4,
   "id": "3dfc794b",
   "metadata": {},
   "outputs": [],
   "source": [
    "my_scene = nusc.scene[0]\n",
    "first_sample_token = my_scene['first_sample_token']\n",
    "my_sample = nusc.get('sample', first_sample_token)"
   ]
  },
  {
   "cell_type": "code",
   "execution_count": 5,
   "id": "cc56e84f",
   "metadata": {},
   "outputs": [
    {
     "data": {
      "text/plain": [
       "{'token': 'e3d495d4ac534d54b321f50006683844',\n",
       " 'sample_token': 'ca9a282c9e77460f8360f564131a8af5',\n",
       " 'ego_pose_token': 'e3d495d4ac534d54b321f50006683844',\n",
       " 'calibrated_sensor_token': '1d31c729b073425e8e0202c5c6e66ee1',\n",
       " 'timestamp': 1532402927612460,\n",
       " 'fileformat': 'jpg',\n",
       " 'is_key_frame': True,\n",
       " 'height': 900,\n",
       " 'width': 1600,\n",
       " 'filename': 'samples/CAM_FRONT/n015-2018-07-24-11-22-45+0800__CAM_FRONT__1532402927612460.jpg',\n",
       " 'prev': '',\n",
       " 'next': '68e8e98cf7b0487baa139df808641db7',\n",
       " 'sensor_modality': 'camera',\n",
       " 'channel': 'CAM_FRONT'}"
      ]
     },
     "execution_count": 5,
     "metadata": {},
     "output_type": "execute_result"
    }
   ],
   "source": [
    "sensor = 'CAM_FRONT'\n",
    "cam_front_data_token = my_sample['data'][sensor]\n",
    "cam_front_data = nusc.get('sample_data', cam_front_data_token)\n",
    "cam_front_data"
   ]
  },
  {
   "cell_type": "code",
   "execution_count": 212,
   "id": "ea15bd0f",
   "metadata": {},
   "outputs": [
    {
     "name": "stderr",
     "output_type": "stream",
     "text": [
      "100%|██████████| 10/10 [00:10<00:00,  1.07s/it]\n"
     ]
    }
   ],
   "source": [
    "channel_names = [\"CAM_FRONT\", \"CAM_FRONT_LEFT\", \"CAM_FRONT_RIGHT\",\n",
    "                \"CAM_BACK\", \"CAM_BACK_LEFT\", \"CAM_BACK_RIGHT\"]\n",
    "\n",
    "image_data_dict = dict()\n",
    "# Iterate to scene\n",
    "\n",
    "for scene in tqdm.tqdm(nusc.scene):\n",
    "    #Iterate to sample\n",
    "    token = scene['first_sample_token']\n",
    "    while token != '':\n",
    "        sample = nusc.get('sample', token)\n",
    "        annotation_list = sample['anns']\n",
    "        \n",
    "        for channel in channel_names:\n",
    "            channel_token = sample['data'][channel]\n",
    "            filename, boxes, camera_intrinsic = nusc.get_sample_data(channel_token, selected_anntokens=annotation_list)\n",
    "            \n",
    "            if channel_token not in image_data_dict:\n",
    "                image_data_dict[channel_token] = {'channel':channel,\n",
    "                                                 'iID': camera_token,\n",
    "                                                         'filePath': filename,\n",
    "                                                         'annotations': []}\n",
    "            for box in boxes:\n",
    "                corners = view_points(box.corners(), np.array(camera_intrinsic), normalize=True)[:2, :]\n",
    "                image_data_dict[channel_token]['annotations'].append({'name': box.name, 'corners': corners.tolist()})\n",
    "\n",
    "        token = sample['next']\n",
    "#         print(token)\n",
    "#         break\n",
    "        "
   ]
  },
  {
   "cell_type": "raw",
   "id": "25606305-2499-4946-8f88-18e31bbb31ef",
   "metadata": {},
   "source": [
    "import json\n",
    "with open('data/output_data/camera_front_boxes.json', 'w') as f:\n",
    "    json.dump(image_data_dict, f)"
   ]
  },
  {
   "cell_type": "markdown",
   "id": "92368656-eeb0-4e1a-8fb1-646b8f6fa289",
   "metadata": {},
   "source": [
    "## generate class distribution"
   ]
  },
  {
   "cell_type": "code",
   "execution_count": 219,
   "id": "9a21d2cb-abcf-405d-b031-c52b86ca7ac3",
   "metadata": {},
   "outputs": [],
   "source": [
    "# with open('data/output_data/camera_boxes.json', 'r') as file:\n",
    "#     data = json.load(file)"
   ]
  },
  {
   "cell_type": "code",
   "execution_count": 221,
   "id": "497bcf38-d84a-4df7-b118-fa736e0a3381",
   "metadata": {},
   "outputs": [],
   "source": [
    "channel_list, iID_list, name_list, corners_list = [], [], [], []\n",
    "# data = image_data_dict.copy()\n",
    "\n",
    "for key, value in data.items():\n",
    "    iID = value[\"iID\"]\n",
    "    annotations = value[\"annotations\"]\n",
    "    channel = value[\"channel\"]\n",
    "    \n",
    "    for annotation in annotations:\n",
    "        name = annotation[\"name\"]\n",
    "        corners = annotation[\"corners\"]\n",
    "        \n",
    "        # Append the data to the respective lists\n",
    "        iID_list.append(iID)\n",
    "        name_list.append(name)\n",
    "        channel_list.append(channel)\n",
    "        corners_list.append(corners)\n",
    "\n",
    "# Create a Pandas DataFrame from the lists\n",
    "df = pd.DataFrame({\n",
    "    \"channel\": channel_list,\n",
    "    \"iID\": iID_list,\n",
    "    \"name\": name_list,\n",
    "    \"corners\": corners_list\n",
    "})"
   ]
  },
  {
   "cell_type": "code",
   "execution_count": 222,
   "id": "83a40a62-c2b0-4fab-938e-b57adccc792c",
   "metadata": {},
   "outputs": [],
   "source": [
    "df[['class_name', 'sub_category', 'grain']] = df['name'].str.split('.', expand=True, n=2)"
   ]
  },
  {
   "cell_type": "code",
   "execution_count": 223,
   "id": "d8624b27-9122-4592-9f36-a1e3d90bec78",
   "metadata": {},
   "outputs": [
    {
     "data": {
      "text/html": [
       "<div>\n",
       "<style scoped>\n",
       "    .dataframe tbody tr th:only-of-type {\n",
       "        vertical-align: middle;\n",
       "    }\n",
       "\n",
       "    .dataframe tbody tr th {\n",
       "        vertical-align: top;\n",
       "    }\n",
       "\n",
       "    .dataframe thead th {\n",
       "        text-align: right;\n",
       "    }\n",
       "</style>\n",
       "<table border=\"1\" class=\"dataframe\">\n",
       "  <thead>\n",
       "    <tr style=\"text-align: right;\">\n",
       "      <th></th>\n",
       "      <th>class_name</th>\n",
       "      <th>counts</th>\n",
       "      <th>proportion</th>\n",
       "    </tr>\n",
       "  </thead>\n",
       "  <tbody>\n",
       "    <tr>\n",
       "      <th>0</th>\n",
       "      <td>vehicle</td>\n",
       "      <td>11929</td>\n",
       "      <td>0.540458</td>\n",
       "    </tr>\n",
       "    <tr>\n",
       "      <th>1</th>\n",
       "      <td>human</td>\n",
       "      <td>5701</td>\n",
       "      <td>0.258291</td>\n",
       "    </tr>\n",
       "    <tr>\n",
       "      <th>2</th>\n",
       "      <td>movable_object</td>\n",
       "      <td>4373</td>\n",
       "      <td>0.198124</td>\n",
       "    </tr>\n",
       "    <tr>\n",
       "      <th>3</th>\n",
       "      <td>static_object</td>\n",
       "      <td>69</td>\n",
       "      <td>0.003126</td>\n",
       "    </tr>\n",
       "  </tbody>\n",
       "</table>\n",
       "</div>"
      ],
      "text/plain": [
       "       class_name  counts  proportion\n",
       "0         vehicle   11929    0.540458\n",
       "1           human    5701    0.258291\n",
       "2  movable_object    4373    0.198124\n",
       "3   static_object      69    0.003126"
      ]
     },
     "execution_count": 223,
     "metadata": {},
     "output_type": "execute_result"
    }
   ],
   "source": [
    "class_counts = pd.DataFrame({'counts': df.class_name.value_counts(),\n",
    "                                 'proportion': df.class_name.value_counts(normalize=True)\n",
    "                                }).reset_index().rename(columns={\"index\":\"class_name\"})\n",
    "class_counts = class_counts[['class_name', 'counts', 'proportion']]\n",
    "class_counts"
   ]
  },
  {
   "cell_type": "code",
   "execution_count": 224,
   "id": "8247094a-f70e-4596-82e2-2004655c25c5",
   "metadata": {},
   "outputs": [
    {
     "data": {
      "text/html": [
       "<div>\n",
       "<style scoped>\n",
       "    .dataframe tbody tr th:only-of-type {\n",
       "        vertical-align: middle;\n",
       "    }\n",
       "\n",
       "    .dataframe tbody tr th {\n",
       "        vertical-align: top;\n",
       "    }\n",
       "\n",
       "    .dataframe thead th {\n",
       "        text-align: right;\n",
       "    }\n",
       "</style>\n",
       "<table border=\"1\" class=\"dataframe\">\n",
       "  <thead>\n",
       "    <tr style=\"text-align: right;\">\n",
       "      <th></th>\n",
       "      <th>class_name</th>\n",
       "      <th>sub_category</th>\n",
       "      <th>counts</th>\n",
       "      <th>proportion</th>\n",
       "    </tr>\n",
       "  </thead>\n",
       "  <tbody>\n",
       "    <tr>\n",
       "      <th>0</th>\n",
       "      <td>vehicle</td>\n",
       "      <td>car</td>\n",
       "      <td>9427</td>\n",
       "      <td>0.427102</td>\n",
       "    </tr>\n",
       "    <tr>\n",
       "      <th>1</th>\n",
       "      <td>human</td>\n",
       "      <td>pedestrian</td>\n",
       "      <td>5701</td>\n",
       "      <td>0.258291</td>\n",
       "    </tr>\n",
       "    <tr>\n",
       "      <th>2</th>\n",
       "      <td>movable_object</td>\n",
       "      <td>barrier</td>\n",
       "      <td>2692</td>\n",
       "      <td>0.121964</td>\n",
       "    </tr>\n",
       "    <tr>\n",
       "      <th>3</th>\n",
       "      <td>movable_object</td>\n",
       "      <td>trafficcone</td>\n",
       "      <td>1574</td>\n",
       "      <td>0.071312</td>\n",
       "    </tr>\n",
       "    <tr>\n",
       "      <th>4</th>\n",
       "      <td>vehicle</td>\n",
       "      <td>truck</td>\n",
       "      <td>851</td>\n",
       "      <td>0.038556</td>\n",
       "    </tr>\n",
       "    <tr>\n",
       "      <th>5</th>\n",
       "      <td>vehicle</td>\n",
       "      <td>motorcycle</td>\n",
       "      <td>543</td>\n",
       "      <td>0.024601</td>\n",
       "    </tr>\n",
       "    <tr>\n",
       "      <th>6</th>\n",
       "      <td>vehicle</td>\n",
       "      <td>bus</td>\n",
       "      <td>526</td>\n",
       "      <td>0.023831</td>\n",
       "    </tr>\n",
       "    <tr>\n",
       "      <th>7</th>\n",
       "      <td>vehicle</td>\n",
       "      <td>bicycle</td>\n",
       "      <td>274</td>\n",
       "      <td>0.012414</td>\n",
       "    </tr>\n",
       "    <tr>\n",
       "      <th>8</th>\n",
       "      <td>vehicle</td>\n",
       "      <td>construction</td>\n",
       "      <td>245</td>\n",
       "      <td>0.011100</td>\n",
       "    </tr>\n",
       "    <tr>\n",
       "      <th>9</th>\n",
       "      <td>movable_object</td>\n",
       "      <td>pushable_pullable</td>\n",
       "      <td>91</td>\n",
       "      <td>0.004123</td>\n",
       "    </tr>\n",
       "    <tr>\n",
       "      <th>10</th>\n",
       "      <td>static_object</td>\n",
       "      <td>bicycle_rack</td>\n",
       "      <td>69</td>\n",
       "      <td>0.003126</td>\n",
       "    </tr>\n",
       "    <tr>\n",
       "      <th>11</th>\n",
       "      <td>vehicle</td>\n",
       "      <td>trailer</td>\n",
       "      <td>63</td>\n",
       "      <td>0.002854</td>\n",
       "    </tr>\n",
       "    <tr>\n",
       "      <th>12</th>\n",
       "      <td>movable_object</td>\n",
       "      <td>debris</td>\n",
       "      <td>16</td>\n",
       "      <td>0.000725</td>\n",
       "    </tr>\n",
       "  </tbody>\n",
       "</table>\n",
       "</div>"
      ],
      "text/plain": [
       "        class_name       sub_category  counts  proportion\n",
       "0          vehicle                car    9427    0.427102\n",
       "1            human         pedestrian    5701    0.258291\n",
       "2   movable_object            barrier    2692    0.121964\n",
       "3   movable_object        trafficcone    1574    0.071312\n",
       "4          vehicle              truck     851    0.038556\n",
       "5          vehicle         motorcycle     543    0.024601\n",
       "6          vehicle                bus     526    0.023831\n",
       "7          vehicle            bicycle     274    0.012414\n",
       "8          vehicle       construction     245    0.011100\n",
       "9   movable_object  pushable_pullable      91    0.004123\n",
       "10   static_object       bicycle_rack      69    0.003126\n",
       "11         vehicle            trailer      63    0.002854\n",
       "12  movable_object             debris      16    0.000725"
      ]
     },
     "execution_count": 224,
     "metadata": {},
     "output_type": "execute_result"
    }
   ],
   "source": [
    "sub_category_counts = pd.DataFrame({'counts': df[['class_name', 'sub_category']].value_counts(),\n",
    "                                 'proportion': df[['class_name', 'sub_category']].value_counts(normalize=True)\n",
    "                                }).reset_index()\n",
    "sub_category_counts = sub_category_counts[['class_name', 'sub_category', 'counts', 'proportion']]\n",
    "sub_category_counts"
   ]
  },
  {
   "cell_type": "code",
   "execution_count": 287,
   "id": "d209b126-cd78-4100-8a1d-ace1f624b731",
   "metadata": {},
   "outputs": [
    {
     "data": {
      "text/plain": [
       "22072"
      ]
     },
     "execution_count": 287,
     "metadata": {},
     "output_type": "execute_result"
    }
   ],
   "source": [
    "sub_category_counts['counts'].sum()"
   ]
  },
  {
   "cell_type": "code",
   "execution_count": 225,
   "id": "bfac0e3f-0152-4e92-bd81-dd8e01ae8e88",
   "metadata": {},
   "outputs": [
    {
     "data": {
      "text/plain": [
       "(1405967, 6)"
      ]
     },
     "execution_count": 225,
     "metadata": {},
     "output_type": "execute_result"
    }
   ],
   "source": [
    "image_data = pd.read_csv('data/output_data/v1.0-trainval_image_data.csv')\n",
    "image_data.shape"
   ]
  },
  {
   "cell_type": "code",
   "execution_count": 226,
   "id": "2f9faf41-a2da-4e53-92a0-b88bb84620ad",
   "metadata": {},
   "outputs": [
    {
     "data": {
      "text/plain": [
       "CAM_BACK           389416\n",
       "CAM_FRONT          331889\n",
       "CAM_FRONT_LEFT     192705\n",
       "CAM_FRONT_RIGHT    182647\n",
       "CAM_BACK_LEFT      162110\n",
       "CAM_BACK_RIGHT     147200\n",
       "Name: channel, dtype: int64"
      ]
     },
     "execution_count": 226,
     "metadata": {},
     "output_type": "execute_result"
    }
   ],
   "source": [
    "image_data['channel'].value_counts()"
   ]
  },
  {
   "cell_type": "code",
   "execution_count": 288,
   "id": "0ec91a2d-900d-4771-85ac-94e3c476d34e",
   "metadata": {},
   "outputs": [
    {
     "data": {
      "text/html": [
       "<div>\n",
       "<style scoped>\n",
       "    .dataframe tbody tr th:only-of-type {\n",
       "        vertical-align: middle;\n",
       "    }\n",
       "\n",
       "    .dataframe tbody tr th {\n",
       "        vertical-align: top;\n",
       "    }\n",
       "\n",
       "    .dataframe thead th {\n",
       "        text-align: right;\n",
       "    }\n",
       "</style>\n",
       "<table border=\"1\" class=\"dataframe\">\n",
       "  <thead>\n",
       "    <tr style=\"text-align: right;\">\n",
       "      <th></th>\n",
       "      <th>class_name</th>\n",
       "      <th>sub_category</th>\n",
       "      <th>counts</th>\n",
       "      <th>proportion</th>\n",
       "    </tr>\n",
       "  </thead>\n",
       "  <tbody>\n",
       "    <tr>\n",
       "      <th>0</th>\n",
       "      <td>vehicle</td>\n",
       "      <td>car</td>\n",
       "      <td>138944</td>\n",
       "      <td>0.418844</td>\n",
       "    </tr>\n",
       "    <tr>\n",
       "      <th>1</th>\n",
       "      <td>human</td>\n",
       "      <td>pedestrian</td>\n",
       "      <td>62131</td>\n",
       "      <td>0.187293</td>\n",
       "    </tr>\n",
       "    <tr>\n",
       "      <th>2</th>\n",
       "      <td>movable_object</td>\n",
       "      <td>barrier</td>\n",
       "      <td>45062</td>\n",
       "      <td>0.135839</td>\n",
       "    </tr>\n",
       "    <tr>\n",
       "      <th>3</th>\n",
       "      <td>vehicle</td>\n",
       "      <td>truck</td>\n",
       "      <td>25673</td>\n",
       "      <td>0.077391</td>\n",
       "    </tr>\n",
       "    <tr>\n",
       "      <th>4</th>\n",
       "      <td>movable_object</td>\n",
       "      <td>trafficcone</td>\n",
       "      <td>25227</td>\n",
       "      <td>0.076046</td>\n",
       "    </tr>\n",
       "    <tr>\n",
       "      <th>5</th>\n",
       "      <td>movable_object</td>\n",
       "      <td>pushable_pullable</td>\n",
       "      <td>8437</td>\n",
       "      <td>0.025433</td>\n",
       "    </tr>\n",
       "    <tr>\n",
       "      <th>6</th>\n",
       "      <td>vehicle</td>\n",
       "      <td>trailer</td>\n",
       "      <td>7276</td>\n",
       "      <td>0.021933</td>\n",
       "    </tr>\n",
       "    <tr>\n",
       "      <th>7</th>\n",
       "      <td>vehicle</td>\n",
       "      <td>bus</td>\n",
       "      <td>5714</td>\n",
       "      <td>0.017225</td>\n",
       "    </tr>\n",
       "    <tr>\n",
       "      <th>8</th>\n",
       "      <td>vehicle</td>\n",
       "      <td>construction</td>\n",
       "      <td>4709</td>\n",
       "      <td>0.014195</td>\n",
       "    </tr>\n",
       "    <tr>\n",
       "      <th>9</th>\n",
       "      <td>vehicle</td>\n",
       "      <td>motorcycle</td>\n",
       "      <td>3304</td>\n",
       "      <td>0.009960</td>\n",
       "    </tr>\n",
       "    <tr>\n",
       "      <th>10</th>\n",
       "      <td>vehicle</td>\n",
       "      <td>bicycle</td>\n",
       "      <td>2960</td>\n",
       "      <td>0.008923</td>\n",
       "    </tr>\n",
       "    <tr>\n",
       "      <th>11</th>\n",
       "      <td>movable_object</td>\n",
       "      <td>debris</td>\n",
       "      <td>1173</td>\n",
       "      <td>0.003536</td>\n",
       "    </tr>\n",
       "    <tr>\n",
       "      <th>12</th>\n",
       "      <td>static_object</td>\n",
       "      <td>bicycle_rack</td>\n",
       "      <td>911</td>\n",
       "      <td>0.002746</td>\n",
       "    </tr>\n",
       "    <tr>\n",
       "      <th>13</th>\n",
       "      <td>vehicle</td>\n",
       "      <td>emergency</td>\n",
       "      <td>211</td>\n",
       "      <td>0.000636</td>\n",
       "    </tr>\n",
       "  </tbody>\n",
       "</table>\n",
       "</div>"
      ],
      "text/plain": [
       "        class_name       sub_category  counts  proportion\n",
       "0          vehicle                car  138944    0.418844\n",
       "1            human         pedestrian   62131    0.187293\n",
       "2   movable_object            barrier   45062    0.135839\n",
       "3          vehicle              truck   25673    0.077391\n",
       "4   movable_object        trafficcone   25227    0.076046\n",
       "5   movable_object  pushable_pullable    8437    0.025433\n",
       "6          vehicle            trailer    7276    0.021933\n",
       "7          vehicle                bus    5714    0.017225\n",
       "8          vehicle       construction    4709    0.014195\n",
       "9          vehicle         motorcycle    3304    0.009960\n",
       "10         vehicle            bicycle    2960    0.008923\n",
       "11  movable_object             debris    1173    0.003536\n",
       "12   static_object       bicycle_rack     911    0.002746\n",
       "13         vehicle          emergency     211    0.000636"
      ]
     },
     "execution_count": 288,
     "metadata": {},
     "output_type": "execute_result"
    }
   ],
   "source": [
    "class_counts = pd.read_csv('data/output_data/v1.0-trainval_class_counts.csv')\n",
    "class_counts"
   ]
  },
  {
   "cell_type": "code",
   "execution_count": null,
   "id": "8dc47b96-ac71-45ed-bbab-665dec357cee",
   "metadata": {},
   "outputs": [],
   "source": []
  },
  {
   "cell_type": "markdown",
   "id": "92ffb09f-b579-43fc-bb37-ed4d651365bf",
   "metadata": {},
   "source": [
    "## leaderboard"
   ]
  },
  {
   "cell_type": "code",
   "execution_count": 231,
   "id": "3dc1c38d-b465-41ba-8ea9-7dcc15a7ee39",
   "metadata": {},
   "outputs": [],
   "source": [
    "with open('data/input_data/leaderboard.json', 'r') as file:\n",
    "    leader_data = json.load(file)"
   ]
  },
  {
   "cell_type": "code",
   "execution_count": 280,
   "id": "08eb35d0-49cc-4005-94cb-12c876e0f9f5",
   "metadata": {},
   "outputs": [
    {
     "data": {
      "text/plain": [
       "dict_keys(['label_aps', 'mean_dist_aps', 'mean_ap', 'label_tp_errors', 'tp_errors', 'tp_scores', 'nd_score', 'eval_time', 'cfg'])"
      ]
     },
     "execution_count": 280,
     "metadata": {},
     "output_type": "execute_result"
    }
   ],
   "source": [
    "leader_data[0]['metrics_summary'].keys()"
   ]
  },
  {
   "cell_type": "code",
   "execution_count": 283,
   "id": "b6ee88f2-c5b1-40bc-8b84-f57db73762ca",
   "metadata": {},
   "outputs": [
    {
     "data": {
      "text/plain": [
       "0.7761520312130207"
      ]
     },
     "execution_count": 283,
     "metadata": {},
     "output_type": "execute_result"
    }
   ],
   "source": [
    "leader_data[0]['metrics_summary']['nd_score']"
   ]
  },
  {
   "cell_type": "code",
   "execution_count": 265,
   "id": "f11eb365-685f-4440-8b46-485cc000e672",
   "metadata": {},
   "outputs": [
    {
     "data": {
      "text/html": [
       "<div>\n",
       "<style scoped>\n",
       "    .dataframe tbody tr th:only-of-type {\n",
       "        vertical-align: middle;\n",
       "    }\n",
       "\n",
       "    .dataframe tbody tr th {\n",
       "        vertical-align: top;\n",
       "    }\n",
       "\n",
       "    .dataframe thead th {\n",
       "        text-align: right;\n",
       "    }\n",
       "</style>\n",
       "<table border=\"1\" class=\"dataframe\">\n",
       "  <thead>\n",
       "    <tr style=\"text-align: right;\">\n",
       "      <th></th>\n",
       "      <th>sub_category</th>\n",
       "      <th>mean_aps_score</th>\n",
       "    </tr>\n",
       "  </thead>\n",
       "  <tbody>\n",
       "    <tr>\n",
       "      <th>0</th>\n",
       "      <td>car</td>\n",
       "      <td>0.899901</td>\n",
       "    </tr>\n",
       "    <tr>\n",
       "      <th>1</th>\n",
       "      <td>truck</td>\n",
       "      <td>0.676586</td>\n",
       "    </tr>\n",
       "    <tr>\n",
       "      <th>2</th>\n",
       "      <td>bus</td>\n",
       "      <td>0.755723</td>\n",
       "    </tr>\n",
       "    <tr>\n",
       "      <th>3</th>\n",
       "      <td>trailer</td>\n",
       "      <td>0.686522</td>\n",
       "    </tr>\n",
       "    <tr>\n",
       "      <th>4</th>\n",
       "      <td>construction_vehicle</td>\n",
       "      <td>0.442497</td>\n",
       "    </tr>\n",
       "    <tr>\n",
       "      <th>5</th>\n",
       "      <td>pedestrian</td>\n",
       "      <td>0.917354</td>\n",
       "    </tr>\n",
       "    <tr>\n",
       "      <th>6</th>\n",
       "      <td>motorcycle</td>\n",
       "      <td>0.839903</td>\n",
       "    </tr>\n",
       "    <tr>\n",
       "      <th>7</th>\n",
       "      <td>bicycle</td>\n",
       "      <td>0.666053</td>\n",
       "    </tr>\n",
       "    <tr>\n",
       "      <th>8</th>\n",
       "      <td>traffic_cone</td>\n",
       "      <td>0.893431</td>\n",
       "    </tr>\n",
       "    <tr>\n",
       "      <th>9</th>\n",
       "      <td>barrier</td>\n",
       "      <td>0.809650</td>\n",
       "    </tr>\n",
       "  </tbody>\n",
       "</table>\n",
       "</div>"
      ],
      "text/plain": [
       "           sub_category  mean_aps_score\n",
       "0                   car        0.899901\n",
       "1                 truck        0.676586\n",
       "2                   bus        0.755723\n",
       "3               trailer        0.686522\n",
       "4  construction_vehicle        0.442497\n",
       "5            pedestrian        0.917354\n",
       "6            motorcycle        0.839903\n",
       "7               bicycle        0.666053\n",
       "8          traffic_cone        0.893431\n",
       "9               barrier        0.809650"
      ]
     },
     "execution_count": 265,
     "metadata": {},
     "output_type": "execute_result"
    }
   ],
   "source": [
    "mean_scores = {}\n",
    "for i in range(5):\n",
    "    # Calculate mean performance score of top 5 submissions\n",
    "    metric_summary = leader_data[i]['metrics_summary']['mean_dist_aps']\n",
    "    for key, value in metric_summary.items():\n",
    "        if key in mean_scores:\n",
    "            mean_scores[key].append(value)\n",
    "        else:\n",
    "            mean_scores[key] = [value]\n",
    "\n",
    "# Calculate the mean for each object\n",
    "for key, value in mean_scores.items():\n",
    "    mean_scores[key] = sum(value) / len(value)\n",
    "\n",
    "# Create a DataFrame from the mean scores\n",
    "leader_df = pd.DataFrame(mean_scores.items(), columns=['sub_category', 'mean_aps_score'])\n",
    "leader_df"
   ]
  },
  {
   "cell_type": "code",
   "execution_count": 276,
   "id": "8d86b991-2cee-4357-a96d-554ce0c399e3",
   "metadata": {},
   "outputs": [],
   "source": [
    "class_counts.loc[class_counts['sub_category']=='construction', 'sub_category'] = 'construction_vehicle'\n",
    "class_counts.loc[class_counts['sub_category']=='trafficcone', 'sub_category'] = 'traffic_cone'"
   ]
  },
  {
   "cell_type": "code",
   "execution_count": 285,
   "id": "514461d4-55c6-40b3-9ae7-ed010e1bc0b1",
   "metadata": {},
   "outputs": [],
   "source": [
    "final_metrics_df = class_counts.merge(leader_df, on = 'sub_category', how='inner')\n",
    "final_metrics_df.rename(columns = {'class_name': 'class_group', 'sub_category': 'class_name'}, inplace=True)"
   ]
  },
  {
   "cell_type": "code",
   "execution_count": 286,
   "id": "921a69d8-f5a1-4e15-99c1-34ab227b6c4d",
   "metadata": {},
   "outputs": [
    {
     "data": {
      "text/html": [
       "<div>\n",
       "<style scoped>\n",
       "    .dataframe tbody tr th:only-of-type {\n",
       "        vertical-align: middle;\n",
       "    }\n",
       "\n",
       "    .dataframe tbody tr th {\n",
       "        vertical-align: top;\n",
       "    }\n",
       "\n",
       "    .dataframe thead th {\n",
       "        text-align: right;\n",
       "    }\n",
       "</style>\n",
       "<table border=\"1\" class=\"dataframe\">\n",
       "  <thead>\n",
       "    <tr style=\"text-align: right;\">\n",
       "      <th></th>\n",
       "      <th>class_group</th>\n",
       "      <th>class_name</th>\n",
       "      <th>counts</th>\n",
       "      <th>proportion</th>\n",
       "      <th>mean_aps_score</th>\n",
       "    </tr>\n",
       "  </thead>\n",
       "  <tbody>\n",
       "    <tr>\n",
       "      <th>0</th>\n",
       "      <td>vehicle</td>\n",
       "      <td>car</td>\n",
       "      <td>611816</td>\n",
       "      <td>0.435436</td>\n",
       "      <td>0.899901</td>\n",
       "    </tr>\n",
       "    <tr>\n",
       "      <th>1</th>\n",
       "      <td>human</td>\n",
       "      <td>pedestrian</td>\n",
       "      <td>255160</td>\n",
       "      <td>0.181600</td>\n",
       "      <td>0.917354</td>\n",
       "    </tr>\n",
       "    <tr>\n",
       "      <th>2</th>\n",
       "      <td>movable_object</td>\n",
       "      <td>barrier</td>\n",
       "      <td>181597</td>\n",
       "      <td>0.129245</td>\n",
       "      <td>0.809650</td>\n",
       "    </tr>\n",
       "    <tr>\n",
       "      <th>3</th>\n",
       "      <td>vehicle</td>\n",
       "      <td>truck</td>\n",
       "      <td>111392</td>\n",
       "      <td>0.079279</td>\n",
       "      <td>0.676586</td>\n",
       "    </tr>\n",
       "    <tr>\n",
       "      <th>4</th>\n",
       "      <td>movable_object</td>\n",
       "      <td>traffic_cone</td>\n",
       "      <td>109313</td>\n",
       "      <td>0.077799</td>\n",
       "      <td>0.893431</td>\n",
       "    </tr>\n",
       "    <tr>\n",
       "      <th>5</th>\n",
       "      <td>vehicle</td>\n",
       "      <td>trailer</td>\n",
       "      <td>33277</td>\n",
       "      <td>0.023684</td>\n",
       "      <td>0.686522</td>\n",
       "    </tr>\n",
       "    <tr>\n",
       "      <th>6</th>\n",
       "      <td>vehicle</td>\n",
       "      <td>bus</td>\n",
       "      <td>19773</td>\n",
       "      <td>0.014073</td>\n",
       "      <td>0.755723</td>\n",
       "    </tr>\n",
       "    <tr>\n",
       "      <th>7</th>\n",
       "      <td>vehicle</td>\n",
       "      <td>construction_vehicle</td>\n",
       "      <td>19245</td>\n",
       "      <td>0.013697</td>\n",
       "      <td>0.442497</td>\n",
       "    </tr>\n",
       "    <tr>\n",
       "      <th>8</th>\n",
       "      <td>vehicle</td>\n",
       "      <td>motorcycle</td>\n",
       "      <td>14640</td>\n",
       "      <td>0.010419</td>\n",
       "      <td>0.839903</td>\n",
       "    </tr>\n",
       "    <tr>\n",
       "      <th>9</th>\n",
       "      <td>vehicle</td>\n",
       "      <td>bicycle</td>\n",
       "      <td>13934</td>\n",
       "      <td>0.009917</td>\n",
       "      <td>0.666053</td>\n",
       "    </tr>\n",
       "  </tbody>\n",
       "</table>\n",
       "</div>"
      ],
      "text/plain": [
       "      class_group            class_name  counts  proportion  mean_aps_score\n",
       "0         vehicle                   car  611816    0.435436        0.899901\n",
       "1           human            pedestrian  255160    0.181600        0.917354\n",
       "2  movable_object               barrier  181597    0.129245        0.809650\n",
       "3         vehicle                 truck  111392    0.079279        0.676586\n",
       "4  movable_object          traffic_cone  109313    0.077799        0.893431\n",
       "5         vehicle               trailer   33277    0.023684        0.686522\n",
       "6         vehicle                   bus   19773    0.014073        0.755723\n",
       "7         vehicle  construction_vehicle   19245    0.013697        0.442497\n",
       "8         vehicle            motorcycle   14640    0.010419        0.839903\n",
       "9         vehicle               bicycle   13934    0.009917        0.666053"
      ]
     },
     "execution_count": 286,
     "metadata": {},
     "output_type": "execute_result"
    }
   ],
   "source": [
    "final_metrics_df"
   ]
  },
  {
   "cell_type": "code",
   "execution_count": null,
   "id": "910b28d7-1145-4be7-838e-be32b4b82108",
   "metadata": {},
   "outputs": [],
   "source": []
  }
 ],
 "metadata": {
  "kernelspec": {
   "display_name": "Python 3 (ipykernel)",
   "language": "python",
   "name": "python3"
  },
  "language_info": {
   "codemirror_mode": {
    "name": "ipython",
    "version": 3
   },
   "file_extension": ".py",
   "mimetype": "text/x-python",
   "name": "python",
   "nbconvert_exporter": "python",
   "pygments_lexer": "ipython3",
   "version": "3.9.13"
  }
 },
 "nbformat": 4,
 "nbformat_minor": 5
}
