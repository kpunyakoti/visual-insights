{
 "cells": [
  {
   "cell_type": "code",
   "execution_count": 53,
   "id": "410533d8",
   "metadata": {},
   "outputs": [],
   "source": [
    "%matplotlib inline\n",
    "from nuscenes.nuscenes import NuScenes\n",
    "from nuscenes.utils.data_classes import Box\n",
    "from nuscenes.utils.geometry_utils import view_points, BoxVisibility\n",
    "from pyquaternion import Quaternion\n",
    "import numpy as np\n",
    "import pandas as pd\n",
    "import tqdm"
   ]
  },
  {
   "cell_type": "code",
   "execution_count": 16,
   "id": "05ba0d1e-433f-45f1-b902-3131ef43c714",
   "metadata": {},
   "outputs": [],
   "source": [
    "import os"
   ]
  },
  {
   "cell_type": "code",
   "execution_count": 18,
   "id": "a66ed4ac-6289-4d67-8e3a-652dd91c7100",
   "metadata": {},
   "outputs": [],
   "source": [
    "os.chdir(\"../\")"
   ]
  },
  {
   "cell_type": "code",
   "execution_count": 83,
   "id": "4d8bc64a",
   "metadata": {},
   "outputs": [
    {
     "name": "stdout",
     "output_type": "stream",
     "text": [
      "======\n",
      "Loading NuScenes tables for version v1.0-mini...\n",
      "23 category,\n",
      "8 attribute,\n",
      "4 visibility,\n",
      "911 instance,\n",
      "12 sensor,\n",
      "120 calibrated_sensor,\n",
      "31206 ego_pose,\n",
      "8 log,\n",
      "10 scene,\n",
      "404 sample,\n",
      "31206 sample_data,\n",
      "18538 sample_annotation,\n",
      "4 map,\n",
      "Done loading in 1.895 seconds.\n",
      "======\n",
      "Reverse indexing ...\n",
      "Done reverse indexing in 0.1 seconds.\n",
      "======\n"
     ]
    }
   ],
   "source": [
    "# Loading the nuscene from local system\n",
    "nusc = NuScenes(version='v1.0-mini', dataroot='data/input_data/v1.0-mini/', verbose=True)"
   ]
  },
  {
   "cell_type": "code",
   "execution_count": 4,
   "id": "3dfc794b",
   "metadata": {},
   "outputs": [],
   "source": [
    "my_scene = nusc.scene[0]\n",
    "first_sample_token = my_scene['first_sample_token']\n",
    "my_sample = nusc.get('sample', first_sample_token)"
   ]
  },
  {
   "cell_type": "code",
   "execution_count": 5,
   "id": "cc56e84f",
   "metadata": {},
   "outputs": [
    {
     "data": {
      "text/plain": [
       "{'token': 'e3d495d4ac534d54b321f50006683844',\n",
       " 'sample_token': 'ca9a282c9e77460f8360f564131a8af5',\n",
       " 'ego_pose_token': 'e3d495d4ac534d54b321f50006683844',\n",
       " 'calibrated_sensor_token': '1d31c729b073425e8e0202c5c6e66ee1',\n",
       " 'timestamp': 1532402927612460,\n",
       " 'fileformat': 'jpg',\n",
       " 'is_key_frame': True,\n",
       " 'height': 900,\n",
       " 'width': 1600,\n",
       " 'filename': 'samples/CAM_FRONT/n015-2018-07-24-11-22-45+0800__CAM_FRONT__1532402927612460.jpg',\n",
       " 'prev': '',\n",
       " 'next': '68e8e98cf7b0487baa139df808641db7',\n",
       " 'sensor_modality': 'camera',\n",
       " 'channel': 'CAM_FRONT'}"
      ]
     },
     "execution_count": 5,
     "metadata": {},
     "output_type": "execute_result"
    }
   ],
   "source": [
    "sensor = 'CAM_FRONT'\n",
    "cam_front_data_token = my_sample['data'][sensor]\n",
    "cam_front_data = nusc.get('sample_data', cam_front_data_token)\n",
    "cam_front_data"
   ]
  },
  {
   "cell_type": "code",
   "execution_count": 212,
   "id": "ea15bd0f",
   "metadata": {},
   "outputs": [
    {
     "name": "stderr",
     "output_type": "stream",
     "text": [
      "100%|██████████| 10/10 [00:10<00:00,  1.07s/it]\n"
     ]
    }
   ],
   "source": [
    "channel_names = [\"CAM_FRONT\", \"CAM_FRONT_LEFT\", \"CAM_FRONT_RIGHT\",\n",
    "                \"CAM_BACK\", \"CAM_BACK_LEFT\", \"CAM_BACK_RIGHT\"]\n",
    "\n",
    "image_data_dict = dict()\n",
    "# Iterate to scene\n",
    "\n",
    "for scene in tqdm.tqdm(nusc.scene):\n",
    "    #Iterate to sample\n",
    "    token = scene['first_sample_token']\n",
    "    while token != '':\n",
    "        sample = nusc.get('sample', token)\n",
    "        annotation_list = sample['anns']\n",
    "        \n",
    "        for channel in channel_names:\n",
    "            channel_token = sample['data'][channel]\n",
    "            filename, boxes, camera_intrinsic = nusc.get_sample_data(channel_token, selected_anntokens=annotation_list)\n",
    "            \n",
    "            if channel_token not in image_data_dict:\n",
    "                image_data_dict[channel_token] = {'channel':channel,\n",
    "                                                 'iID': camera_token,\n",
    "                                                         'filePath': filename,\n",
    "                                                         'annotations': []}\n",
    "            for box in boxes:\n",
    "                corners = view_points(box.corners(), np.array(camera_intrinsic), normalize=True)[:2, :]\n",
    "                image_data_dict[channel_token]['annotations'].append({'name': box.name, 'corners': corners.tolist()})\n",
    "\n",
    "        token = sample['next']\n",
    "#         print(token)\n",
    "#         break\n",
    "        "
   ]
  },
  {
   "cell_type": "raw",
   "id": "25606305-2499-4946-8f88-18e31bbb31ef",
   "metadata": {},
   "source": [
    "import json\n",
    "with open('data/output_data/camera_front_boxes.json', 'w') as f:\n",
    "    json.dump(image_data_dict, f)"
   ]
  },
  {
   "cell_type": "markdown",
   "id": "92368656-eeb0-4e1a-8fb1-646b8f6fa289",
   "metadata": {},
   "source": [
    "## generate class distribution"
   ]
  },
  {
   "cell_type": "code",
   "execution_count": 219,
   "id": "9a21d2cb-abcf-405d-b031-c52b86ca7ac3",
   "metadata": {},
   "outputs": [],
   "source": [
    "# with open('data/output_data/camera_boxes.json', 'r') as file:\n",
    "#     data = json.load(file)"
   ]
  },
  {
   "cell_type": "code",
   "execution_count": 221,
   "id": "497bcf38-d84a-4df7-b118-fa736e0a3381",
   "metadata": {},
   "outputs": [],
   "source": [
    "channel_list, iID_list, name_list, corners_list = [], [], [], []\n",
    "# data = image_data_dict.copy()\n",
    "\n",
    "for key, value in data.items():\n",
    "    iID = value[\"iID\"]\n",
    "    annotations = value[\"annotations\"]\n",
    "    channel = value[\"channel\"]\n",
    "    \n",
    "    for annotation in annotations:\n",
    "        name = annotation[\"name\"]\n",
    "        corners = annotation[\"corners\"]\n",
    "        \n",
    "        # Append the data to the respective lists\n",
    "        iID_list.append(iID)\n",
    "        name_list.append(name)\n",
    "        channel_list.append(channel)\n",
    "        corners_list.append(corners)\n",
    "\n",
    "# Create a Pandas DataFrame from the lists\n",
    "df = pd.DataFrame({\n",
    "    \"channel\": channel_list,\n",
    "    \"iID\": iID_list,\n",
    "    \"name\": name_list,\n",
    "    \"corners\": corners_list\n",
    "})"
   ]
  },
  {
   "cell_type": "code",
   "execution_count": 222,
   "id": "83a40a62-c2b0-4fab-938e-b57adccc792c",
   "metadata": {},
   "outputs": [],
   "source": [
    "df[['class_name', 'sub_category', 'grain']] = df['name'].str.split('.', expand=True, n=2)"
   ]
  },
  {
   "cell_type": "code",
   "execution_count": 223,
   "id": "d8624b27-9122-4592-9f36-a1e3d90bec78",
   "metadata": {},
   "outputs": [
    {
     "data": {
      "text/html": [
       "<div>\n",
       "<style scoped>\n",
       "    .dataframe tbody tr th:only-of-type {\n",
       "        vertical-align: middle;\n",
       "    }\n",
       "\n",
       "    .dataframe tbody tr th {\n",
       "        vertical-align: top;\n",
       "    }\n",
       "\n",
       "    .dataframe thead th {\n",
       "        text-align: right;\n",
       "    }\n",
       "</style>\n",
       "<table border=\"1\" class=\"dataframe\">\n",
       "  <thead>\n",
       "    <tr style=\"text-align: right;\">\n",
       "      <th></th>\n",
       "      <th>class_name</th>\n",
       "      <th>counts</th>\n",
       "      <th>proportion</th>\n",
       "    </tr>\n",
       "  </thead>\n",
       "  <tbody>\n",
       "    <tr>\n",
       "      <th>0</th>\n",
       "      <td>vehicle</td>\n",
       "      <td>11929</td>\n",
       "      <td>0.540458</td>\n",
       "    </tr>\n",
       "    <tr>\n",
       "      <th>1</th>\n",
       "      <td>human</td>\n",
       "      <td>5701</td>\n",
       "      <td>0.258291</td>\n",
       "    </tr>\n",
       "    <tr>\n",
       "      <th>2</th>\n",
       "      <td>movable_object</td>\n",
       "      <td>4373</td>\n",
       "      <td>0.198124</td>\n",
       "    </tr>\n",
       "    <tr>\n",
       "      <th>3</th>\n",
       "      <td>static_object</td>\n",
       "      <td>69</td>\n",
       "      <td>0.003126</td>\n",
       "    </tr>\n",
       "  </tbody>\n",
       "</table>\n",
       "</div>"
      ],
      "text/plain": [
       "       class_name  counts  proportion\n",
       "0         vehicle   11929    0.540458\n",
       "1           human    5701    0.258291\n",
       "2  movable_object    4373    0.198124\n",
       "3   static_object      69    0.003126"
      ]
     },
     "execution_count": 223,
     "metadata": {},
     "output_type": "execute_result"
    }
   ],
   "source": [
    "class_counts = pd.DataFrame({'counts': df.class_name.value_counts(),\n",
    "                                 'proportion': df.class_name.value_counts(normalize=True)\n",
    "                                }).reset_index().rename(columns={\"index\":\"class_name\"})\n",
    "class_counts = class_counts[['class_name', 'counts', 'proportion']]\n",
    "class_counts"
   ]
  },
  {
   "cell_type": "code",
   "execution_count": 224,
   "id": "8247094a-f70e-4596-82e2-2004655c25c5",
   "metadata": {},
   "outputs": [
    {
     "data": {
      "text/html": [
       "<div>\n",
       "<style scoped>\n",
       "    .dataframe tbody tr th:only-of-type {\n",
       "        vertical-align: middle;\n",
       "    }\n",
       "\n",
       "    .dataframe tbody tr th {\n",
       "        vertical-align: top;\n",
       "    }\n",
       "\n",
       "    .dataframe thead th {\n",
       "        text-align: right;\n",
       "    }\n",
       "</style>\n",
       "<table border=\"1\" class=\"dataframe\">\n",
       "  <thead>\n",
       "    <tr style=\"text-align: right;\">\n",
       "      <th></th>\n",
       "      <th>class_name</th>\n",
       "      <th>sub_category</th>\n",
       "      <th>counts</th>\n",
       "      <th>proportion</th>\n",
       "    </tr>\n",
       "  </thead>\n",
       "  <tbody>\n",
       "    <tr>\n",
       "      <th>0</th>\n",
       "      <td>vehicle</td>\n",
       "      <td>car</td>\n",
       "      <td>9427</td>\n",
       "      <td>0.427102</td>\n",
       "    </tr>\n",
       "    <tr>\n",
       "      <th>1</th>\n",
       "      <td>human</td>\n",
       "      <td>pedestrian</td>\n",
       "      <td>5701</td>\n",
       "      <td>0.258291</td>\n",
       "    </tr>\n",
       "    <tr>\n",
       "      <th>2</th>\n",
       "      <td>movable_object</td>\n",
       "      <td>barrier</td>\n",
       "      <td>2692</td>\n",
       "      <td>0.121964</td>\n",
       "    </tr>\n",
       "    <tr>\n",
       "      <th>3</th>\n",
       "      <td>movable_object</td>\n",
       "      <td>trafficcone</td>\n",
       "      <td>1574</td>\n",
       "      <td>0.071312</td>\n",
       "    </tr>\n",
       "    <tr>\n",
       "      <th>4</th>\n",
       "      <td>vehicle</td>\n",
       "      <td>truck</td>\n",
       "      <td>851</td>\n",
       "      <td>0.038556</td>\n",
       "    </tr>\n",
       "    <tr>\n",
       "      <th>5</th>\n",
       "      <td>vehicle</td>\n",
       "      <td>motorcycle</td>\n",
       "      <td>543</td>\n",
       "      <td>0.024601</td>\n",
       "    </tr>\n",
       "    <tr>\n",
       "      <th>6</th>\n",
       "      <td>vehicle</td>\n",
       "      <td>bus</td>\n",
       "      <td>526</td>\n",
       "      <td>0.023831</td>\n",
       "    </tr>\n",
       "    <tr>\n",
       "      <th>7</th>\n",
       "      <td>vehicle</td>\n",
       "      <td>bicycle</td>\n",
       "      <td>274</td>\n",
       "      <td>0.012414</td>\n",
       "    </tr>\n",
       "    <tr>\n",
       "      <th>8</th>\n",
       "      <td>vehicle</td>\n",
       "      <td>construction</td>\n",
       "      <td>245</td>\n",
       "      <td>0.011100</td>\n",
       "    </tr>\n",
       "    <tr>\n",
       "      <th>9</th>\n",
       "      <td>movable_object</td>\n",
       "      <td>pushable_pullable</td>\n",
       "      <td>91</td>\n",
       "      <td>0.004123</td>\n",
       "    </tr>\n",
       "    <tr>\n",
       "      <th>10</th>\n",
       "      <td>static_object</td>\n",
       "      <td>bicycle_rack</td>\n",
       "      <td>69</td>\n",
       "      <td>0.003126</td>\n",
       "    </tr>\n",
       "    <tr>\n",
       "      <th>11</th>\n",
       "      <td>vehicle</td>\n",
       "      <td>trailer</td>\n",
       "      <td>63</td>\n",
       "      <td>0.002854</td>\n",
       "    </tr>\n",
       "    <tr>\n",
       "      <th>12</th>\n",
       "      <td>movable_object</td>\n",
       "      <td>debris</td>\n",
       "      <td>16</td>\n",
       "      <td>0.000725</td>\n",
       "    </tr>\n",
       "  </tbody>\n",
       "</table>\n",
       "</div>"
      ],
      "text/plain": [
       "        class_name       sub_category  counts  proportion\n",
       "0          vehicle                car    9427    0.427102\n",
       "1            human         pedestrian    5701    0.258291\n",
       "2   movable_object            barrier    2692    0.121964\n",
       "3   movable_object        trafficcone    1574    0.071312\n",
       "4          vehicle              truck     851    0.038556\n",
       "5          vehicle         motorcycle     543    0.024601\n",
       "6          vehicle                bus     526    0.023831\n",
       "7          vehicle            bicycle     274    0.012414\n",
       "8          vehicle       construction     245    0.011100\n",
       "9   movable_object  pushable_pullable      91    0.004123\n",
       "10   static_object       bicycle_rack      69    0.003126\n",
       "11         vehicle            trailer      63    0.002854\n",
       "12  movable_object             debris      16    0.000725"
      ]
     },
     "execution_count": 224,
     "metadata": {},
     "output_type": "execute_result"
    }
   ],
   "source": [
    "sub_category_counts = pd.DataFrame({'counts': df[['class_name', 'sub_category']].value_counts(),\n",
    "                                 'proportion': df[['class_name', 'sub_category']].value_counts(normalize=True)\n",
    "                                }).reset_index()\n",
    "sub_category_counts = sub_category_counts[['class_name', 'sub_category', 'counts', 'proportion']]\n",
    "sub_category_counts"
   ]
  },
  {
   "cell_type": "code",
   "execution_count": null,
   "id": "d209b126-cd78-4100-8a1d-ace1f624b731",
   "metadata": {},
   "outputs": [],
   "source": []
  },
  {
   "cell_type": "code",
   "execution_count": 225,
   "id": "bfac0e3f-0152-4e92-bd81-dd8e01ae8e88",
   "metadata": {},
   "outputs": [
    {
     "data": {
      "text/plain": [
       "(1405967, 6)"
      ]
     },
     "execution_count": 225,
     "metadata": {},
     "output_type": "execute_result"
    }
   ],
   "source": [
    "image_data = pd.read_csv('data/output_data/v1.0-trainval_image_data.csv')\n",
    "image_data.shape"
   ]
  },
  {
   "cell_type": "code",
   "execution_count": 226,
   "id": "2f9faf41-a2da-4e53-92a0-b88bb84620ad",
   "metadata": {},
   "outputs": [
    {
     "data": {
      "text/plain": [
       "CAM_BACK           389416\n",
       "CAM_FRONT          331889\n",
       "CAM_FRONT_LEFT     192705\n",
       "CAM_FRONT_RIGHT    182647\n",
       "CAM_BACK_LEFT      162110\n",
       "CAM_BACK_RIGHT     147200\n",
       "Name: channel, dtype: int64"
      ]
     },
     "execution_count": 226,
     "metadata": {},
     "output_type": "execute_result"
    }
   ],
   "source": [
    "image_data['channel'].value_counts()"
   ]
  },
  {
   "cell_type": "code",
   "execution_count": 227,
   "id": "35433085-d4c6-448e-a740-8cc0101788e2",
   "metadata": {},
   "outputs": [
    {
     "data": {
      "text/html": [
       "<div>\n",
       "<style scoped>\n",
       "    .dataframe tbody tr th:only-of-type {\n",
       "        vertical-align: middle;\n",
       "    }\n",
       "\n",
       "    .dataframe tbody tr th {\n",
       "        vertical-align: top;\n",
       "    }\n",
       "\n",
       "    .dataframe thead th {\n",
       "        text-align: right;\n",
       "    }\n",
       "</style>\n",
       "<table border=\"1\" class=\"dataframe\">\n",
       "  <thead>\n",
       "    <tr style=\"text-align: right;\">\n",
       "      <th></th>\n",
       "      <th>class_name</th>\n",
       "      <th>sub_category</th>\n",
       "      <th>counts</th>\n",
       "      <th>proportion</th>\n",
       "    </tr>\n",
       "  </thead>\n",
       "  <tbody>\n",
       "    <tr>\n",
       "      <th>0</th>\n",
       "      <td>vehicle</td>\n",
       "      <td>car</td>\n",
       "      <td>611816</td>\n",
       "      <td>0.435436</td>\n",
       "    </tr>\n",
       "    <tr>\n",
       "      <th>1</th>\n",
       "      <td>human</td>\n",
       "      <td>pedestrian</td>\n",
       "      <td>255160</td>\n",
       "      <td>0.181600</td>\n",
       "    </tr>\n",
       "    <tr>\n",
       "      <th>2</th>\n",
       "      <td>movable_object</td>\n",
       "      <td>barrier</td>\n",
       "      <td>181597</td>\n",
       "      <td>0.129245</td>\n",
       "    </tr>\n",
       "    <tr>\n",
       "      <th>3</th>\n",
       "      <td>vehicle</td>\n",
       "      <td>truck</td>\n",
       "      <td>111392</td>\n",
       "      <td>0.079279</td>\n",
       "    </tr>\n",
       "    <tr>\n",
       "      <th>4</th>\n",
       "      <td>movable_object</td>\n",
       "      <td>trafficcone</td>\n",
       "      <td>109313</td>\n",
       "      <td>0.077799</td>\n",
       "    </tr>\n",
       "    <tr>\n",
       "      <th>5</th>\n",
       "      <td>vehicle</td>\n",
       "      <td>trailer</td>\n",
       "      <td>33277</td>\n",
       "      <td>0.023684</td>\n",
       "    </tr>\n",
       "    <tr>\n",
       "      <th>6</th>\n",
       "      <td>movable_object</td>\n",
       "      <td>pushable_pullable</td>\n",
       "      <td>26946</td>\n",
       "      <td>0.019178</td>\n",
       "    </tr>\n",
       "    <tr>\n",
       "      <th>7</th>\n",
       "      <td>vehicle</td>\n",
       "      <td>bus</td>\n",
       "      <td>19773</td>\n",
       "      <td>0.014073</td>\n",
       "    </tr>\n",
       "    <tr>\n",
       "      <th>8</th>\n",
       "      <td>vehicle</td>\n",
       "      <td>construction</td>\n",
       "      <td>19245</td>\n",
       "      <td>0.013697</td>\n",
       "    </tr>\n",
       "    <tr>\n",
       "      <th>9</th>\n",
       "      <td>vehicle</td>\n",
       "      <td>motorcycle</td>\n",
       "      <td>14640</td>\n",
       "      <td>0.010419</td>\n",
       "    </tr>\n",
       "    <tr>\n",
       "      <th>10</th>\n",
       "      <td>vehicle</td>\n",
       "      <td>bicycle</td>\n",
       "      <td>13934</td>\n",
       "      <td>0.009917</td>\n",
       "    </tr>\n",
       "    <tr>\n",
       "      <th>11</th>\n",
       "      <td>static_object</td>\n",
       "      <td>bicycle_rack</td>\n",
       "      <td>3607</td>\n",
       "      <td>0.002567</td>\n",
       "    </tr>\n",
       "    <tr>\n",
       "      <th>12</th>\n",
       "      <td>movable_object</td>\n",
       "      <td>debris</td>\n",
       "      <td>3483</td>\n",
       "      <td>0.002479</td>\n",
       "    </tr>\n",
       "    <tr>\n",
       "      <th>13</th>\n",
       "      <td>vehicle</td>\n",
       "      <td>emergency</td>\n",
       "      <td>882</td>\n",
       "      <td>0.000628</td>\n",
       "    </tr>\n",
       "  </tbody>\n",
       "</table>\n",
       "</div>"
      ],
      "text/plain": [
       "        class_name       sub_category  counts  proportion\n",
       "0          vehicle                car  611816    0.435436\n",
       "1            human         pedestrian  255160    0.181600\n",
       "2   movable_object            barrier  181597    0.129245\n",
       "3          vehicle              truck  111392    0.079279\n",
       "4   movable_object        trafficcone  109313    0.077799\n",
       "5          vehicle            trailer   33277    0.023684\n",
       "6   movable_object  pushable_pullable   26946    0.019178\n",
       "7          vehicle                bus   19773    0.014073\n",
       "8          vehicle       construction   19245    0.013697\n",
       "9          vehicle         motorcycle   14640    0.010419\n",
       "10         vehicle            bicycle   13934    0.009917\n",
       "11   static_object       bicycle_rack    3607    0.002567\n",
       "12  movable_object             debris    3483    0.002479\n",
       "13         vehicle          emergency     882    0.000628"
      ]
     },
     "execution_count": 227,
     "metadata": {},
     "output_type": "execute_result"
    }
   ],
   "source": [
    "sub_cat_counts = pd.read_csv('data/output_data/v1.0-trainval_sub_category_counts.csv')\n",
    "sub_cat_counts"
   ]
  },
  {
   "cell_type": "code",
   "execution_count": 228,
   "id": "0ec91a2d-900d-4771-85ac-94e3c476d34e",
   "metadata": {},
   "outputs": [
    {
     "data": {
      "text/html": [
       "<div>\n",
       "<style scoped>\n",
       "    .dataframe tbody tr th:only-of-type {\n",
       "        vertical-align: middle;\n",
       "    }\n",
       "\n",
       "    .dataframe tbody tr th {\n",
       "        vertical-align: top;\n",
       "    }\n",
       "\n",
       "    .dataframe thead th {\n",
       "        text-align: right;\n",
       "    }\n",
       "</style>\n",
       "<table border=\"1\" class=\"dataframe\">\n",
       "  <thead>\n",
       "    <tr style=\"text-align: right;\">\n",
       "      <th></th>\n",
       "      <th>class_name</th>\n",
       "      <th>counts</th>\n",
       "      <th>proportion</th>\n",
       "    </tr>\n",
       "  </thead>\n",
       "  <tbody>\n",
       "    <tr>\n",
       "      <th>0</th>\n",
       "      <td>vehicle</td>\n",
       "      <td>824959</td>\n",
       "      <td>0.586756</td>\n",
       "    </tr>\n",
       "    <tr>\n",
       "      <th>1</th>\n",
       "      <td>movable_object</td>\n",
       "      <td>321339</td>\n",
       "      <td>0.228554</td>\n",
       "    </tr>\n",
       "    <tr>\n",
       "      <th>2</th>\n",
       "      <td>human</td>\n",
       "      <td>255160</td>\n",
       "      <td>0.181484</td>\n",
       "    </tr>\n",
       "    <tr>\n",
       "      <th>3</th>\n",
       "      <td>static_object</td>\n",
       "      <td>3607</td>\n",
       "      <td>0.002565</td>\n",
       "    </tr>\n",
       "    <tr>\n",
       "      <th>4</th>\n",
       "      <td>animal</td>\n",
       "      <td>902</td>\n",
       "      <td>0.000642</td>\n",
       "    </tr>\n",
       "  </tbody>\n",
       "</table>\n",
       "</div>"
      ],
      "text/plain": [
       "       class_name  counts  proportion\n",
       "0         vehicle  824959    0.586756\n",
       "1  movable_object  321339    0.228554\n",
       "2           human  255160    0.181484\n",
       "3   static_object    3607    0.002565\n",
       "4          animal     902    0.000642"
      ]
     },
     "execution_count": 228,
     "metadata": {},
     "output_type": "execute_result"
    }
   ],
   "source": [
    "class_counts = pd.read_csv('data/output_data/v1.0-trainval_class_counts.csv')\n",
    "class_counts"
   ]
  },
  {
   "cell_type": "code",
   "execution_count": null,
   "id": "5c8fe0c0-73dc-4b5d-9d10-1f9d143d0f5b",
   "metadata": {},
   "outputs": [],
   "source": []
  }
 ],
 "metadata": {
  "kernelspec": {
   "display_name": "Python 3 (ipykernel)",
   "language": "python",
   "name": "python3"
  },
  "language_info": {
   "codemirror_mode": {
    "name": "ipython",
    "version": 3
   },
   "file_extension": ".py",
   "mimetype": "text/x-python",
   "name": "python",
   "nbconvert_exporter": "python",
   "pygments_lexer": "ipython3",
   "version": "3.9.13"
  }
 },
 "nbformat": 4,
 "nbformat_minor": 5
}
