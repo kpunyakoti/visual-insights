{
 "cells": [
  {
   "cell_type": "markdown",
   "id": "92cff29e-dff8-4460-a6a5-dad70f5909a7",
   "metadata": {},
   "source": [
    "## retrieving feature vectors from featureVectorDB"
   ]
  },
  {
   "cell_type": "code",
   "execution_count": 40,
   "id": "2fd71a16-a30b-42a8-bb5d-dda3f500322f",
   "metadata": {},
   "outputs": [],
   "source": [
    "import numpy as np\n",
    "import pandas as pd\n",
    "import sqlite3 as db\n",
    "import tqdm\n",
    "import shutil\n",
    "import os"
   ]
  },
  {
   "cell_type": "code",
   "execution_count": 2,
   "id": "402476ee-349b-4982-9261-79ed7aeecad9",
   "metadata": {},
   "outputs": [],
   "source": [
    "import matplotlib.pyplot as plt\n",
    "from PIL import Image\n",
    "import warnings\n",
    "warnings.filterwarnings('ignore')"
   ]
  },
  {
   "cell_type": "code",
   "execution_count": 3,
   "id": "d99ba948-249e-4505-8130-9ada26670ace",
   "metadata": {},
   "outputs": [],
   "source": [
    "#Connecting to db\n",
    "db_filepath = './artifacts/featurevectorDB.db'\n",
    "conn = db.connect(db_filepath)\n",
    "cursor = conn.cursor()"
   ]
  },
  {
   "cell_type": "code",
   "execution_count": 4,
   "id": "2f4e11e2-5473-4d4d-940a-8a58fba3cc3c",
   "metadata": {},
   "outputs": [],
   "source": [
    "def retrieve_feature_vector(img_name):\n",
    "    #Get the row\n",
    "    cursor.execute(\"SELECT * FROM ImageFeatures WHERE img_name = ?\", (img_name, ))\n",
    "    result = cursor.fetchone()\n",
    "\n",
    "    if result is not None:\n",
    "        # Convert the bytes back to a float array and return it\n",
    "        float_array_bytes = result[1]\n",
    "        float_array = np.frombuffer(float_array_bytes, dtype='float32')\n",
    "        return float_array\n",
    "    else:\n",
    "        return None"
   ]
  },
  {
   "cell_type": "code",
   "execution_count": 5,
   "id": "fc338708-d82a-487e-b486-27f3d0f9f20b",
   "metadata": {},
   "outputs": [
    {
     "data": {
      "text/plain": [
       "34149"
      ]
     },
     "execution_count": 5,
     "metadata": {},
     "output_type": "execute_result"
    }
   ],
   "source": [
    "#Fetch feature vectors from ImageFeatures\n",
    "cursor.execute('SELECT img_name FROM ImageFeatures')\n",
    "img_names = cursor.fetchall()\n",
    "len(img_names)"
   ]
  },
  {
   "cell_type": "raw",
   "id": "fadfc2ff-7f9d-4135-b17c-27c1cbbce373",
   "metadata": {},
   "source": [
    "# load feature vectors to dict\n",
    "img_feature_dict = {img[0]: np.array(retrieve_feature_vector(img[0]).tolist()) for img in img_names}"
   ]
  },
  {
   "cell_type": "code",
   "execution_count": 7,
   "id": "52685541-1a01-49fe-a5b2-b7eb4ea32637",
   "metadata": {},
   "outputs": [],
   "source": [
    "image_feature_df = pd.DataFrame(list(img_feature_dict.items()), columns=['image_name', 'feature_vector'])"
   ]
  },
  {
   "cell_type": "code",
   "execution_count": null,
   "id": "b9c53602-4e41-433c-b4a5-6da844b5703f",
   "metadata": {},
   "outputs": [],
   "source": []
  },
  {
   "cell_type": "code",
   "execution_count": 62,
   "id": "6d1f9a1f-6ed8-427f-b44c-060bc5fb06a3",
   "metadata": {},
   "outputs": [
    {
     "data": {
      "text/plain": [
       "array([0.89598829, 0.        , 0.        , ..., 0.        , 0.85478342,\n",
       "       0.02093017])"
      ]
     },
     "execution_count": 62,
     "metadata": {},
     "output_type": "execute_result"
    }
   ],
   "source": [
    "np.array(retrieve_feature_vector(img_names[0][0]).tolist())"
   ]
  },
  {
   "cell_type": "markdown",
   "id": "10fc385b-9cb4-4b31-9fe7-bd93b3378e62",
   "metadata": {},
   "source": [
    "## Generate similarity scores"
   ]
  },
  {
   "cell_type": "code",
   "execution_count": 23,
   "id": "00549de8-b261-42f7-88fa-d6aca6292ef6",
   "metadata": {},
   "outputs": [],
   "source": [
    "from sklearn.metrics.pairwise import cosine_similarity"
   ]
  },
  {
   "cell_type": "code",
   "execution_count": 24,
   "id": "69bb9796-848a-465a-a30d-896a6911905b",
   "metadata": {},
   "outputs": [],
   "source": [
    "def calculate_similarityscore(image_id, fv_query):\n",
    "    fv_image = retrieve_feature_vector(image_id)\n",
    "    score = cosine_similarity([fv_image],[fv_query]).flatten()[0]\n",
    "    return score"
   ]
  },
  {
   "cell_type": "code",
   "execution_count": null,
   "id": "c0c1f9b2-5677-4e59-9137-facc78a98ffb",
   "metadata": {},
   "outputs": [],
   "source": []
  },
  {
   "cell_type": "code",
   "execution_count": 25,
   "id": "1dcbc606-437f-4a6a-8fb3-5a719ff917f2",
   "metadata": {},
   "outputs": [],
   "source": [
    "cosine_sim = cosine_similarity(image_feature_df['feature_vector'].tolist(), image_feature_df['feature_vector'].tolist())"
   ]
  },
  {
   "cell_type": "code",
   "execution_count": 61,
   "id": "d200c6e3-7e7b-4eba-af18-baf2656ead5e",
   "metadata": {},
   "outputs": [
    {
     "name": "stderr",
     "output_type": "stream",
     "text": [
      "34149it [02:13, 256.22it/s]\n"
     ]
    }
   ],
   "source": [
    "result_df = pd.DataFrame(columns=['image_name', 'top_similar_images'])\n",
    "\n",
    "# Iterate through each image\n",
    "for i, image_name in tqdm.tqdm(enumerate(image_feature_df['image_name'])):\n",
    "    # Get the similarity scores for the current image\n",
    "    similar_scores = cosine_sim[i]\n",
    "\n",
    "    # Sort in descending order and get the indices of the top 30 similar images (excluding the image itself)\n",
    "    top_indices = (-similar_scores).argsort()[1:31]\n",
    "\n",
    "    # Get the image names corresponding to the top indices\n",
    "    top_similar_images = image_feature_df['image_name'].iloc[top_indices].tolist()\n",
    "\n",
    "    # Append to the result DataFrame\n",
    "    result_df = result_df.append({'image_name': image_name, 'top_similar_images': top_similar_images}, ignore_index=True)"
   ]
  },
  {
   "cell_type": "code",
   "execution_count": 62,
   "id": "8d50d26a-42e8-4b11-a219-3576d145e6d7",
   "metadata": {},
   "outputs": [
    {
     "data": {
      "text/plain": [
       "<sqlite3.Cursor at 0x147eac3b0>"
      ]
     },
     "execution_count": 62,
     "metadata": {},
     "output_type": "execute_result"
    }
   ],
   "source": [
    "cursor.execute(\"DROP TABLE IF EXISTS SimilarityResults\")\n",
    "cursor.execute('''\n",
    "                CREATE TABLE IF NOT EXISTS SimilarityResults (\n",
    "                img_name TEXT,\n",
    "                similar_images TEXT\n",
    "                )\n",
    "                ''')"
   ]
  },
  {
   "cell_type": "code",
   "execution_count": 63,
   "id": "b91f139e-fa61-453a-bdab-9d0bfa0622eb",
   "metadata": {},
   "outputs": [],
   "source": [
    "result_df['similar_images_joined'] = result_df['top_similar_images'].apply(lambda x: ','.join(x))\n",
    "\n",
    "for index, row in result_df.iterrows():\n",
    "    cursor.execute(\"INSERT OR REPLACE INTO SimilarityResults (img_name, similar_images) VALUES (?, ?)\",\n",
    "                   (row['image_name'], row['similar_images_joined']))"
   ]
  },
  {
   "cell_type": "code",
   "execution_count": null,
   "id": "f170865c-dc53-4694-be68-b30173085327",
   "metadata": {},
   "outputs": [],
   "source": []
  },
  {
   "cell_type": "code",
   "execution_count": 64,
   "id": "8191283f-d12d-4b65-8dd1-56b9e441064d",
   "metadata": {},
   "outputs": [],
   "source": [
    "cursor.execute(\"select similar_images from SimilarityResults where img_name =?\", (query_image,))\n",
    "similar_images = cursor.fetchall()"
   ]
  },
  {
   "cell_type": "code",
   "execution_count": 65,
   "id": "1cd4da4c-6838-4044-8138-661b4cd0380f",
   "metadata": {},
   "outputs": [
    {
     "data": {
      "text/plain": [
       "['n015-2018-11-21-19-11-29+0800__CAM_FRONT__1542798859112460.jpg',\n",
       " 'n015-2018-11-21-19-38-26+0800__CAM_FRONT__1542800379862460.jpg',\n",
       " 'n015-2018-11-21-19-38-26+0800__CAM_FRONT__1542800389412460.jpg',\n",
       " 'n015-2018-11-21-19-38-26+0800__CAM_FRONT__1542800326412460.jpg',\n",
       " 'n015-2018-11-21-19-38-26+0800__CAM_FRONT__1542800377412460.jpg',\n",
       " 'n015-2018-11-21-19-21-35+0800__CAM_FRONT__1542799668162460.jpg',\n",
       " 'n015-2018-11-21-19-11-29+0800__CAM_FRONT__1542798858162460.jpg',\n",
       " 'n015-2018-11-21-19-38-26+0800__CAM_FRONT__1542800334912460.jpg',\n",
       " 'n015-2018-11-21-19-38-26+0800__CAM_FRONT__1542800309912460.jpg',\n",
       " 'n015-2018-11-21-19-38-26+0800__CAM_FRONT__1542800384912460.jpg',\n",
       " 'n015-2018-11-21-19-38-26+0800__CAM_FRONT__1542800447412460.jpg',\n",
       " 'n015-2018-11-21-19-38-26+0800__CAM_FRONT__1542800307912460.jpg',\n",
       " 'n015-2018-11-14-19-09-14+0800__CAM_FRONT__1542194084912460.jpg',\n",
       " 'n015-2018-11-14-19-09-14+0800__CAM_FRONT__1542194085412460.jpg',\n",
       " 'n015-2018-11-14-19-09-14+0800__CAM_FRONT__1542194061912460.jpg',\n",
       " 'n015-2018-11-21-19-38-26+0800__CAM_FRONT__1542800380912460.jpg',\n",
       " 'n015-2018-11-21-19-11-29+0800__CAM_FRONT__1542798843412460.jpg',\n",
       " 'n015-2018-11-21-19-38-26+0800__CAM_FRONT__1542800382362460.jpg',\n",
       " 'n015-2018-11-21-19-38-26+0800__CAM_FRONT__1542800387862460.jpg',\n",
       " 'n015-2018-11-21-19-38-26+0800__CAM_FRONT__1542800369412460.jpg',\n",
       " 'n015-2018-11-21-19-38-26+0800__CAM_FRONT__1542800445412460.jpg',\n",
       " 'n015-2018-11-14-19-09-14+0800__CAM_FRONT__1542193821162460.jpg',\n",
       " 'n015-2018-11-21-19-38-26+0800__CAM_FRONT__1542800409412460.jpg',\n",
       " 'n015-2018-11-21-19-38-26+0800__CAM_FRONT__1542800374912460.jpg',\n",
       " 'n015-2018-11-21-19-11-29+0800__CAM_FRONT__1542798857162460.jpg',\n",
       " 'n015-2018-11-21-19-21-35+0800__CAM_FRONT__1542799667662460.jpg',\n",
       " 'n015-2018-11-14-19-09-14+0800__CAM_FRONT__1542194085862460.jpg',\n",
       " 'n015-2018-11-21-19-11-29+0800__CAM_FRONT__1542798846412460.jpg',\n",
       " 'n015-2018-11-21-19-38-26+0800__CAM_FRONT__1542800379362460.jpg',\n",
       " 'n015-2018-11-21-19-38-26+0800__CAM_FRONT__1542800385412460.jpg']"
      ]
     },
     "execution_count": 65,
     "metadata": {},
     "output_type": "execute_result"
    }
   ],
   "source": [
    "similar_images[0][0].split(\",\")"
   ]
  },
  {
   "cell_type": "code",
   "execution_count": 42,
   "id": "cdc4a940-7fd6-428c-8c31-89ee8ec75fc7",
   "metadata": {},
   "outputs": [],
   "source": [
    "image_directory = 'data/input_data/v1.0-trainval/samples/CAM_FRONT'\n",
    "similar_images_directory = 'data/output_data/similar_images'\n",
    "query_image = 'n015-2018-11-21-19-38-26+0800__CAM_FRONT__1542800380362460.jpg'"
   ]
  },
  {
   "cell_type": "code",
   "execution_count": 43,
   "id": "e9e21fff-7659-4e8b-9ca8-a03066ab9868",
   "metadata": {},
   "outputs": [],
   "source": [
    "image_dir = os.path.join(image_directory)"
   ]
  },
  {
   "cell_type": "code",
   "execution_count": 35,
   "id": "98a0556d-2ed8-4130-9997-1fbfbd687d9a",
   "metadata": {},
   "outputs": [],
   "source": [
    "def empty_directory(directory_path):\n",
    "    \n",
    "    for item in os.listdir(directory_path):\n",
    "        item_path = os.path.join(directory_path, item)\n",
    "\n",
    "        # Check if the item is a file and remove it\n",
    "        if os.path.isfile(item_path):\n",
    "            os.remove(item_path)\n",
    "\n",
    "        # Check if the item is a directory and remove it recursively\n",
    "        elif os.path.isdir(item_path):\n",
    "            shutil.rmtree(item_path)"
   ]
  },
  {
   "cell_type": "code",
   "execution_count": 45,
   "id": "48c3b5e4-b211-429c-9415-fd3d59faf361",
   "metadata": {},
   "outputs": [],
   "source": [
    "def get_the_similar_images(query_image):\n",
    "    \n",
    "    empty_directory(similar_images_directory)\n",
    "    \n",
    "    similar_images = result_df[result_df['image_name']==query_image]['top_similar_images'][0]\n",
    "\n",
    "    for similar_image in similar_images:\n",
    "        image_path = os.path.join(image_directory, similar_image)\n",
    "        shutil.copy2(image_path, similar_images_directory)"
   ]
  },
  {
   "cell_type": "code",
   "execution_count": 46,
   "id": "007f02c6-3bc2-4042-8dd8-1915c38a477e",
   "metadata": {},
   "outputs": [],
   "source": [
    "get_the_similar_images(query_image)"
   ]
  },
  {
   "cell_type": "code",
   "execution_count": 47,
   "id": "b9f8ab8f-f1a4-48f4-8585-12cef724be52",
   "metadata": {},
   "outputs": [],
   "source": [
    "result_df.to_csv(\"./data/output_data/top_similar_images.csv\", index=False)"
   ]
  },
  {
   "cell_type": "code",
   "execution_count": null,
   "id": "f889e491-502a-4ff0-9767-22108a705d66",
   "metadata": {},
   "outputs": [],
   "source": [
    "# Store the result_df in your database table\n",
    "# Assuming you have a connection to your database\n",
    "result_df.to_sql('similar_images', con=your_db_connection, if_exists='replace', index=False)"
   ]
  }
 ],
 "metadata": {
  "kernelspec": {
   "display_name": "Python 3 (ipykernel)",
   "language": "python",
   "name": "python3"
  },
  "language_info": {
   "codemirror_mode": {
    "name": "ipython",
    "version": 3
   },
   "file_extension": ".py",
   "mimetype": "text/x-python",
   "name": "python",
   "nbconvert_exporter": "python",
   "pygments_lexer": "ipython3",
   "version": "3.9.13"
  }
 },
 "nbformat": 4,
 "nbformat_minor": 5
}
